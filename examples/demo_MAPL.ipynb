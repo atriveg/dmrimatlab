{
 "cells": [
  {
   "cell_type": "markdown",
   "metadata": {},
   "source": [
    "\n",
    "# <span style=\"color:rgb(213,80,0)\">Multi\\-shell acquisitions and MAP\\-MRI</span>\n",
    "\n",
    "This demo illustrates the basic use of the MAP\\-MRI/MAPL module, aimed at the analysis of multi\\-shell data sets.\n"
   ]
  },
  {
   "cell_type": "code",
   "execution_count": null,
   "metadata": {},
   "outputs": [],
   "source": [
    "addpath('/home/atriveg/ETSITCloud/Code/dmrimatlabOctave');\n",
    "setup__DMRIMatlab_toolbox('useparallel',false); % Will be ingnored if you don't have a licensed copy of the parallel toolbox\n",
    "clear;\n",
    "close('all');\n",
    "lambda = nan; % use GCV\n",
    "tau = 36.5e-3;\n",
    "ADC0 = 3.0e-3;\n",
    "Nmax = 6; % Using larger Nmax will blow up computation times"
   ]
  },
  {
   "cell_type": "markdown",
   "metadata": {},
   "source": [
    "## Load data\n",
    "\n",
    "Load first your own sutiable multi\\-shell dMRI data set, which should include the attenuation signal (DWI over the averaged baseline), the mask to remove the background, the gradients table, and the b\\-values for each gradient direction:\n"
   ]
  },
  {
   "cell_type": "code",
   "execution_count": null,
   "metadata": {},
   "outputs": [],
   "source": [
    "tic;\n",
    "load test_data.mat;\n",
    "T=toc; % This is always a large piece of data\n",
    "fprintf(1,'It took %f seconds to load data\\n',T);\n",
    "whos -file test_data.mat; % Check the variables loaded, their kinds, and their sizes"
   ]
  },
  {
   "cell_type": "markdown",
   "metadata": {},
   "source": [
    "## Use only a few slices to accelerate the demo"
   ]
  },
  {
   "cell_type": "code",
   "execution_count": null,
   "metadata": {},
   "outputs": [],
   "source": [
    "slc = [4,9,14];\n",
    "atti = atti(:,:,slc,:);\n",
    "mask = mask(:,:,slc);\n",
    "slc = [1,2,3];"
   ]
  },
  {
   "cell_type": "markdown",
   "metadata": {},
   "source": [
    "## Compute the MAP\\-MRI coefficients\n",
    "\n",
    "The number of coefficients to fit is governed by the \"Nmax\" parameter. The most usual values are Nmax=4 (22 coefficients) and Nmax=6 (50 coefficients). These coefficients are fitted by solving a quadratic programming problem with a cost function that penalized both the residual of the fitting and the energy of the Laplacian of the signal (the trade\\-off between the two terms is governed by the parameter \"lambda\"). Besides, the resulting diffusion propagator is forced to have integral one (this translates in an equality constraint over the MAP\\-MRI coefficients) and to be non\\-negative in a pre\\-defined Cartesian grid whose density is controlled buy the parameter \"constRad\".\n"
   ]
  },
  {
   "cell_type": "code",
   "execution_count": null,
   "metadata": {},
   "outputs": [],
   "source": [
    "tic;\n",
    "[mapl,dti,lopt] = atti2mapl( atti, gi, bi, 'mask', mask, ...\n",
    "    'tl', 1.0e-7, 'tu', 1-1.0e-7, ... % To avoid outliers\n",
    "    'Nmax', Nmax, ...\n",
    "    'ADC0', ADC0, ...\n",
    "    'lambda', lambda, ...\n",
    "    'tau', tau, ...\n",
    "    'const', true, ...\n",
    "    'constRad', 7, ...  % 2*45*7+1 = 631 constraints\n",
    "    'maxthreads', 8 ...\n",
    "    );\n",
    "fprintf(1,'It took %1.3f seconds to estimate the MAP-MRI coefficients\\n',toc); % This will be a good while!"
   ]
  },
  {
   "cell_type": "markdown",
   "metadata": {},
   "source": [
    "## Compute some standard measures\n",
    "\n",
    "From the MAP\\-MRI coefficients, a number of popular diffusion scalar measurements can be computed, typically defined as integrals over the domain of the attenuation signal itself or its Fourier transform.\n"
   ]
  },
  {
   "cell_type": "code",
   "execution_count": null,
   "metadata": {},
   "outputs": [],
   "source": [
    "ng = mapl2index(mapl,dti,'mask',mask,'tau',tau,'ADC0',ADC0,'type','g');\n",
    "e0 = mapl2index(mapl,dti,'mask',mask,'tau',tau,'ADC0',ADC0,'type','e');\n",
    "rtop = mapl2index(mapl,dti,'mask',mask,'tau',tau,'ADC0',ADC0,'type','o');\n",
    "rtap = mapl2index(mapl,dti,'mask',mask,'tau',tau,'ADC0',ADC0,'type','a');\n",
    "rtpp = mapl2index(mapl,dti,'mask',mask,'tau',tau,'ADC0',ADC0,'type','p');\n",
    "msd = mapl2index(mapl,dti,'mask',mask,'tau',tau,'ADC0',ADC0,'type','m');\n",
    "qiv = mapl2index(mapl,dti,'mask',mask,'tau',tau,'ADC0',ADC0,'type','q');\n",
    "padti = mapl2index(mapl,dti,'mask',mask,'tau',tau,'ADC0',ADC0,'type','d');\n",
    "u0 = mapl2index(mapl,dti,'mask',mask,'tau',tau,'ADC0',ADC0,'type','u');\n",
    "leng = mapl2index(mapl,dti,'mask',mask,'tau',tau,'ADC0',ADC0,'type','l');"
   ]
  },
  {
   "cell_type": "markdown",
   "metadata": {},
   "source": [
    "## Prepare the plots"
   ]
  },
  {
   "cell_type": "code",
   "execution_count": null,
   "metadata": {},
   "outputs": [],
   "source": [
    "mapType = 'gray'; % Changing the colormap will trigger the entire demo\n",
    "switch(mapType)\n",
    "    case 'high'\n",
    "        MAP = psychedelia(512);\n",
    "    case 'gray'\n",
    "        MAP = gray(512); % B/W colormap\n",
    "    case 'default'\n",
    "        MAP = viridis(512);\n",
    "end"
   ]
  },
  {
   "cell_type": "markdown",
   "metadata": {},
   "source": [
    "## Plot the results\n",
    "\n",
    "This is what you might expect for a typical diffusion MRI volume.\n"
   ]
  },
  {
   "cell_type": "code",
   "execution_count": null,
   "metadata": {},
   "outputs": [],
   "source": [
    "close(figure(1)); % Close previous figures if needed\n",
    "hf = figure(1);\n",
    "set(hf,'Name','MAPL indices from multi-shells','Position',[10,10,2800,680]);\n",
    "R=1; C=11;\n",
    "r=1; c=1; subplot('Position',[(c-1)/C,(r-1)/R,1/C,1/R]);\n",
    "imshow([ng(:,:,slc(1))';ng(:,:,slc(2))';ng(:,:, ...\n",
    "    slc(3))'],[0,1.0]); colormap(MAP); colorbar; title('NG');\n",
    "axis('equal');axis('off');axis('tight');\n",
    "r=1; c=2; subplot('Position',[(c-1)/C,(r-1)/R,1/C,1/R]);\n",
    "imshow([e0(:,:,slc(1))';e0(:,:,slc(2))';e0(:,:, ...\n",
    "    slc(3))'],[0,1.0]); colormap(MAP); colorbar; title('E(0)');\n",
    "axis('equal');axis('off');axis('tight');\n",
    "r=1; c=3; subplot('Position',[(c-1)/C,(r-1)/R,1/C,1/R]);\n",
    "imshow([rtop(:,:,slc(1))';rtop(:,:,slc(2))';rtop(:,:, ...\n",
    "    slc(3))'],[0.0,1.0e6]); colormap(MAP); colorbar; title('RTOP');\n",
    "axis('equal');axis('off');axis('tight');\n",
    "r=1; c=4; subplot('Position',[(c-1)/C,(r-1)/R,1/C,1/R]);\n",
    "imshow([rtap(:,:,slc(1))';rtap(:,:,slc(2))';rtap(:,:, ...\n",
    "    slc(3))'],[0.0,1.0e4]); colormap(MAP); colorbar; title('RTAP');\n",
    "axis('equal');axis('off');axis('tight');\n",
    "r=1; c=5; subplot('Position',[(c-1)/C,(r-1)/R,1/C,1/R]);\n",
    "imshow([rtpp(:,:,slc(1))';rtpp(:,:,slc(2))';rtpp(:,:, ...\n",
    "    slc(3))'],[0,40]); colormap(MAP); colorbar; title('RTPP');\n",
    "axis('equal');axis('off');axis('tight');\n",
    "r=1; c=6; subplot('Position',[(c-1)/C,(r-1)/R,1/C,1/R]);\n",
    "imshow([msd(:,:,slc(1))';msd(:,:,slc(2))';msd(:,:, ...\n",
    "    slc(3))'],[0,100e-5]); colormap(MAP); colorbar; title('MSD');\n",
    "axis('equal');axis('off');axis('tight');\n",
    "r=1; c=7; subplot('Position',[(c-1)/C,(r-1)/R,1/C,1/R]);\n",
    "imshow([qiv(:,:,slc(1))';qiv(:,:,slc(2))';qiv(:,:, ...\n",
    "    slc(3))'],[0,50e-10]); colormap(MAP); colorbar; title('QIV');\n",
    "axis('equal');axis('off');axis('tight');\n",
    "r=1; c=8; subplot('Position',[(c-1)/C,(r-1)/R,1/C,1/R]);\n",
    "imshow([leng(:,:,slc(1))';leng(:,:,slc(2))';leng(:,:, ...\n",
    "    slc(3))'],[0,5]); colormap(MAP); colorbar; title('Laplacian energy');\n",
    "axis('equal');axis('off');axis('tight');\n",
    "r=1; c=9; subplot('Position',[(c-1)/C,(r-1)/R,1/C,1/R]);\n",
    "imshow([padti(:,:,slc(1))';padti(:,:,slc(2))';padti(:,:, ...\n",
    "    slc(3))'],[]); colormap(MAP); colorbar; title('PA DTI');\n",
    "axis('equal');axis('off');axis('tight');\n",
    "r=1; c=10; subplot('Position',[(c-1)/C,(r-1)/R,1/C,1/R]);\n",
    "imshow([u0(:,:,slc(1))';u0(:,:,slc(2))';u0(:,:, ...\n",
    "    slc(3))'],[]); colormap(MAP); colorbar; title('u_0');\n",
    "axis('equal');axis('off');axis('tight');\n",
    "r=1; c=11; subplot('Position',[(c-1)/C,(r-1)/R,1/C,1/R]);\n",
    "loptl = log10(lopt).*mask;\n",
    "imshow([loptl(:,:,slc(1))';loptl(:,:,slc(2))';loptl(:,:, ...\n",
    "    slc(3))'],[log10(0.0002),log10(2)]); colormap(MAP); colorbar; title('log_{10}(\\lambda_{opt})');\n",
    "axis('equal');axis('off');axis('tight');"
   ]
  },
  {
   "cell_type": "markdown",
   "metadata": {},
   "source": [
    "## DWI reconstruction (and comparison)\n",
    "\n",
    "The MAP\\-MRI coefficients can be used to recover the fitted attenuation signal at any desired gradients table.\n"
   ]
  },
  {
   "cell_type": "code",
   "execution_count": null,
   "metadata": {},
   "outputs": [],
   "source": [
    "tic;\n",
    "atti2 = mapl2atti( mapl, dti, gi, bi, 'mask', mask );\n",
    "fprintf(1,'It took %1.3f seconds to predict the attenuation signal\\n',toc);\n",
    "channels = [13,51,109,121,182,213,247];\n",
    "close(figure(2)); % Close previous figures if needed\n",
    "hf = figure(2);\n",
    "set(hf,'Name','Original DWIs vs. reconstructed DWIs','Position',[10,10,1680,460]);\n",
    "R=1; C=7;\n",
    "% --\n",
    "r=1; c=1; ch = channels(c);\n",
    "subplot('Position',[(c-1)/C,(r-1)/R,1/C,1/R]);\n",
    "imshow([(double(mask(:,:,slc(1))).*atti(:,:,slc(1),ch))';atti2(:,:,slc(1),ch)'],[0,1.0]);\n",
    "colormap(gray); colorbar;\n",
    "axis('equal');axis('off');axis('tight');\n",
    "% --\n",
    "r=1; c=2; ch = channels(c);\n",
    "subplot('Position',[(c-1)/C,(r-1)/R,1/C,1/R]);\n",
    "imshow([(double(mask(:,:,slc(1))).*atti(:,:,slc(1),ch))';atti2(:,:,slc(1),ch)'],[0,1.0]);\n",
    "colormap(gray); colorbar;\n",
    "axis('equal');axis('off');axis('tight');\n",
    "% --\n",
    "r=1; c=3; ch = channels(c);\n",
    "subplot('Position',[(c-1)/C,(r-1)/R,1/C,1/R]);\n",
    "imshow([(double(mask(:,:,slc(1))).*atti(:,:,slc(1),ch))';atti2(:,:,slc(1),ch)'],[0,1.0]);\n",
    "colormap(gray); colorbar;\n",
    "axis('equal');axis('off');axis('tight');\n",
    "% --\n",
    "r=1; c=4; ch = channels(c);\n",
    "subplot('Position',[(c-1)/C,(r-1)/R,1/C,1/R]);\n",
    "imshow([(double(mask(:,:,slc(1))).*atti(:,:,slc(1),ch))';atti2(:,:,slc(1),ch)'],[0,1.0]);\n",
    "colormap(gray); colorbar;\n",
    "axis('equal');axis('off');axis('tight');\n",
    "% --\n",
    "r=1; c=5; ch = channels(c);\n",
    "subplot('Position',[(c-1)/C,(r-1)/R,1/C,1/R]);\n",
    "imshow([(double(mask(:,:,slc(1))).*atti(:,:,slc(1),ch))';atti2(:,:,slc(1),ch)'],[0,1.0]);\n",
    "colormap(gray); colorbar;\n",
    "axis('equal');axis('off');axis('tight');\n",
    "% --\n",
    "r=1; c=6; ch = channels(c);\n",
    "subplot('Position',[(c-1)/C,(r-1)/R,1/C,1/R]);\n",
    "imshow([(double(mask(:,:,slc(1))).*atti(:,:,slc(1),ch))';atti2(:,:,slc(1),ch)'],[0,1.0]);\n",
    "colormap(gray); colorbar;\n",
    "axis('equal');axis('off');axis('tight');\n",
    "% --\n",
    "r=1; c=7; ch = channels(c);\n",
    "subplot('Position',[(c-1)/C,(r-1)/R,1/C,1/R]);\n",
    "imshow([(double(mask(:,:,slc(1))).*atti(:,:,slc(1),ch))';atti2(:,:,slc(1),ch)'],[0,1.0]);\n",
    "colormap(gray); colorbar;\n",
    "axis('equal');axis('off');axis('tight');\n",
    "% --"
   ]
  },
  {
   "cell_type": "markdown",
   "metadata": {},
   "source": [
    "## Prepare 3\\-D renderings\n",
    "\n",
    "This is only to have  a DTI\\-based reference to plot color\\-by\\-orientation and FA as a background for the glyphs:\n"
   ]
  },
  {
   "cell_type": "code",
   "execution_count": null,
   "metadata": {},
   "outputs": [],
   "source": [
    "[~,~,~,lb1,lb2,lb3] = dti2spectrum(dti,'mask',mask);\n",
    "FA = spectrum2scalar( lb1, lb2, lb3, 'mask', mask, 'scalar', 'fa' );\n",
    "FATH = 0.2;\n",
    "% Convert tensor representation to SH representation to use it\n",
    "% with the plot function:\n",
    "shbg = hot2sh( dti, 'mask', mask );"
   ]
  },
  {
   "cell_type": "markdown",
   "metadata": {},
   "source": [
    "## EAP reconstruction and representation\n",
    "\n",
    "The MAP\\-MRI coefficients can be used to recover the Ensemble Average Propagator as well for arbitrary points in the R\\-space described in spherical coordinates. For the purpose of this demo, we will choose a fixed distance from the origin and compute the value of the EAP in a densely sampled sphere with this radius. This way, we will get a spherical diffusion profile with information similar (but not equivalent) to that provided by ODF fields.\n",
    "\n",
    "\n",
    "Define first this spherical sampling:\n"
   ]
  },
  {
   "cell_type": "code",
   "execution_count": null,
   "metadata": {},
   "outputs": [],
   "source": [
    "N = 128;                 % Number of sampled directions within (half) a sphere\n",
    "ui = designGradients(N); % Nx3 sampling\n",
    "R = 0.015;               % Distance from the origin, in millimeters\n",
    "ri = R*ones(N,1);"
   ]
  },
  {
   "cell_type": "markdown",
   "metadata": {},
   "source": [
    "\n",
    "Now we can just make a call to the toolbox function that computes the EAP:\n"
   ]
  },
  {
   "cell_type": "code",
   "execution_count": null,
   "metadata": {},
   "outputs": [],
   "source": [
    "eap = mapl2eap(mapl,dti,ui,ri,'mask',mask,'tau',tau);"
   ]
  },
  {
   "cell_type": "markdown",
   "metadata": {},
   "source": [
    "\n",
    "Note this volume contains just a ser of values within a regular spherical grid. To represent the diffusion profile using the toolbox function, however, we need a Spherical Harmonics volume. We can get it from the dense spherical representation as:\n"
   ]
  },
  {
   "cell_type": "code",
   "execution_count": null,
   "metadata": {},
   "outputs": [],
   "source": [
    "sh = signal2sh(eap,ui,'L',8,'lambda',1e-4,'mask',mask);"
   ]
  },
  {
   "cell_type": "markdown",
   "metadata": {},
   "source": [
    "\n",
    "And it only remains to plot the results in the usual way:\n"
   ]
  },
  {
   "cell_type": "code",
   "execution_count": null,
   "metadata": {},
   "outputs": [],
   "source": [
    "close(figure(3)); % Close previous figures if necessary\n",
    "hf  = figure(3);\n",
    "set(hf,'Name','Spherical diffusion profiles','Position',[10,10,1400,750]);\n",
    "%---------------------------------------------------------------------------------------------------\n",
    "contrast = [];\n",
    "%---------------------------------------------------------------------------------------------------\n",
    "ha1 = axes('Parent',hf);\n",
    "set(ha1,'OuterPosition',[-0.02,-0.03,0.25,0.5]);\n",
    "sl = 3; mx = 53; % Select the piece of data to plot with our cool plotdmri3d\n",
    "plotdmri3d(sh,[1,mx],[1,110],[sl,sl],'bgimage', 'color', 'bgsh', shbg, 'ha', ...\n",
    "    ha1, 'bgalpha', 1, 'mask', mask, 'bbox', false, 'glyphs', false, 'origin', ...\n",
    "    [0;0;0],'direction',eye(3),'space','LPS','mframe',eye(3) ); % color-by-orientation half the slice\n",
    "plotdmri3d(sh,[mx,101],[1,110],[sl,sl],'bgimage', 'fa', 'bgsh', shbg, 'ha', ...\n",
    "    ha1,'bgalpha', 1, 'mask', mask, 'bbox', false, 'glyphs', false, 'origin', ...\n",
    "    [0;0;0],'direction',eye(3),'space','LPS','mframe',eye(3)  ); % FA image for the other half of the slice\n",
    "plotdmri3d(sh,[mx+2,mx+30],[45,65],[sl,sl],'ha',ha1, 'bgimage', 'fa', 'bgsh', ...\n",
    "    shbg, 'bgalpha', 1, 'mask', mask & (FA>FATH), 'bbox', false, 'glyphs', true, 'angleres', ...\n",
    "    642, 'contrast', contrast, 'glyphspc', [1;1;1], 'glyphsc', 1.5,'glyphscvar', 'none', 'origin', ...\n",
    "    [0;0;0],'direction',eye(3),'space','LPS','mframe',eye(3)  ); % Cool ODF glyphs in the CC and CG\n",
    "plotdmri3d(sh,[mx+15,mx+30],[66,72],[sl,sl],'ha',ha1, 'bgimage', 'fa', 'bgsh', ...\n",
    "    shbg, 'bgalpha', 1, 'mask', mask & (FA>FATH), 'bbox', false, 'glyphs', true, 'angleres', ...\n",
    "    642, 'contrast', contrast, 'glyphspc', [1;1;1], 'glyphsc', 1.5,'glyphscvar', 'none', 'origin', ...\n",
    "    [0;0;0],'direction',eye(3),'space','LPS','mframe',eye(3)  ); % Cool ODF glyphs in the CC and CG\n",
    "light('Position',[-1,0,-1]); % Even cooler look\n",
    "axis('equal');\n",
    "axis('off');\n",
    "view(ha1,0,270);\n",
    "%zoom(1.01);\n",
    "ha3 = axes('Parent',hf);\n",
    "set(ha3,'OuterPosition',[-0.6,-0.525,2.2,2.2]);\n",
    "sl = 3; mx = 53; % Select the piece of data to plot with our cool plotdmri3d\n",
    "plotdmri3d(sh,[mx+2,mx+30],[45,65],[sl,sl],'bgimage', 'fa', 'bgsh', shbg, 'ha', ...\n",
    "    ha3,'bgalpha', 1, 'mask', mask, 'bbox', false, 'glyphs', false, 'origin', ...\n",
    "    [0;0;0],'direction',eye(3),'space','LPS','mframe',eye(3)  );\n",
    "plotdmri3d(sh,[mx+2,mx+30],[45,65],[sl,sl],'ha',ha3, 'bgimage', 'fa', 'bgsh', ...\n",
    "    shbg, 'bgalpha', 0, 'mask', mask & (FA>FATH), 'bbox', false, 'glyphs', true, 'angleres', ...\n",
    "    642, 'contrast', contrast, 'glyphspc', [1;1;1], 'glyphsc', 1,'glyphscvar', 'ga', 'origin', ...\n",
    "    [0;0;0],'direction',eye(3),'space','LPS','mframe',eye(3)  ); % Cool ODF glyphs in the CC and CG\n",
    "plotdmri3d(sh,[mx+15,mx+30],[65,72],[sl,sl],'bgimage', 'fa', 'bgsh', shbg, 'ha', ...\n",
    "    ha3,'bgalpha', 1, 'mask', mask, 'bbox', false, 'glyphs', false, 'origin', ...\n",
    "    [0;0;0],'direction',eye(3),'space','LPS','mframe',eye(3)  );\n",
    "plotdmri3d(sh,[mx+15,mx+30],[66,72],[sl,sl],'ha',ha3, 'bgimage', 'fa', 'bgsh', ...\n",
    "    shbg, 'bgalpha', 0, 'mask', mask & (FA>FATH), 'bbox', false, 'glyphs', true, 'angleres', ...\n",
    "    642, 'contrast', contrast, 'glyphspc', [1;1;1], 'glyphsc', 1,'glyphscvar', 'ga', 'origin', ...\n",
    "    [0;0;0],'direction',eye(3),'space','LPS','mframe',eye(3)  ); % Cool ODF glyphs in the CC and CG\n",
    "light('Position',[1,0,1]); % Even cooler look\n",
    "axis('equal');\n",
    "axis('off');\n",
    "view(ha3,30,45);"
   ]
  },
  {
   "cell_type": "markdown",
   "metadata": {},
   "source": [
    "## Computation of Orientation Ditribution Functions (ODFs)\n",
    "\n",
    "The values of the ODF can be analytically retrieved for any arbitrary set of unit\\-directions from the MAPL coefficients. We will use the same set \"ui\" designed in the previous section, so that it suffices to call the corresponding function (you can play with the \"contrast\" parameter \\-always use values greater than \\-1\\- and check  the results; the default value of 2.0 provides the actual probabilistic ODFs):\n"
   ]
  },
  {
   "cell_type": "code",
   "execution_count": null,
   "metadata": {},
   "outputs": [],
   "source": [
    "odf = mapl2odf(mapl,dti,ui,'mask',mask,'tau',tau,'contrast',2);"
   ]
  },
  {
   "cell_type": "markdown",
   "metadata": {},
   "source": [
    "\n",
    "Note the regular way in which ODFs are represented is through Spherical Harmonics (SH) representations (and this is the input taken by our plot function, too). Unfortunately, there is not a trivial analytical relationship between the (anisotropic) MAPL coefficients of the EAP and the SH coefficients of the ODF, so that we must fit these coefficients numerically. Let's make it:\n"
   ]
  },
  {
   "cell_type": "code",
   "execution_count": null,
   "metadata": {},
   "outputs": [],
   "source": [
    "sh2 = signal2sh(odf,ui,'L',8,'lambda',1e-4,'mask',mask);"
   ]
  },
  {
   "cell_type": "markdown",
   "metadata": {},
   "source": [
    "\n",
    "And now we can use these sh2 to get the plots:\n"
   ]
  },
  {
   "cell_type": "code",
   "execution_count": null,
   "metadata": {},
   "outputs": [],
   "source": [
    "close(figure(4)); % Close previous figures if necessary\n",
    "hf  = figure(4);\n",
    "set(hf,'Name','Spherical diffusion profiles','Position',[10,10,1400,750]);\n",
    "%---------------------------------------------------------------------------------------------------\n",
    "contrast = [];\n",
    "%---------------------------------------------------------------------------------------------------\n",
    "ha1 = axes('Parent',hf);\n",
    "set(ha1,'OuterPosition',[-0.02,-0.03,0.25,0.5]);\n",
    "sl = 3; mx = 53; % Select the piece of data to plot with our cool plotdmri3d\n",
    "plotdmri3d(sh2,[1,mx],[1,110],[sl,sl],'bgimage', 'color', 'bgsh', shbg, 'ha', ...\n",
    "    ha1, 'bgalpha', 1, 'mask', mask, 'bbox', false, 'glyphs', false, 'origin', ...\n",
    "    [0;0;0],'direction',eye(3),'space','LPS','mframe',eye(3) ); % color-by-orientation half the slice\n",
    "plotdmri3d(sh2,[mx,101],[1,110],[sl,sl],'bgimage', 'fa', 'bgsh', shbg, 'ha', ...\n",
    "    ha1,'bgalpha', 1, 'mask', mask, 'bbox', false, 'glyphs', false, 'origin', ...\n",
    "    [0;0;0],'direction',eye(3),'space','LPS','mframe',eye(3)  ); % FA image for the other half of the slice\n",
    "plotdmri3d(sh2,[mx+2,mx+30],[45,65],[sl,sl],'ha',ha1, 'bgimage', 'fa', 'bgsh', ...\n",
    "    shbg, 'bgalpha', 0, 'mask', mask & (FA>FATH), 'bbox', false, 'glyphs', true, 'angleres', ...\n",
    "    642, 'contrast', contrast, 'glyphspc', [1;1;1], 'glyphsc', 1.5,'glyphscvar', 'none', 'origin', ...\n",
    "    [0;0;0],'direction',eye(3),'space','LPS','mframe',eye(3)  ); % Cool ODF glyphs in the CC and CG\n",
    "plotdmri3d(sh2,[mx+15,mx+30],[66,72],[sl,sl],'ha',ha1, 'bgimage', 'fa', 'bgsh', ...\n",
    "    shbg, 'bgalpha', 0, 'mask', mask & (FA>FATH), 'bbox', false, 'glyphs', true, 'angleres', ...\n",
    "    642, 'contrast', contrast, 'glyphspc', [1;1;1], 'glyphsc', 1.5,'glyphscvar', 'none', 'origin', ...\n",
    "    [0;0;0],'direction',eye(3),'space','LPS','mframe',eye(3)  ); % Cool ODF glyphs in the CC and CG\n",
    "light('Position',[-1,0,-1]); % Even cooler look\n",
    "axis('equal');\n",
    "axis('off');\n",
    "view(ha1,0,270);\n",
    "%zoom(1.01);\n",
    "ha3 = axes('Parent',hf);\n",
    "set(ha3,'OuterPosition',[-0.6,-0.525,2.2,2.2]);\n",
    "sl = 3; mx = 53; % Select the piece of data to plot with our cool plotdmri3d\n",
    "plotdmri3d(sh2,[mx+2,mx+30],[45,65],[sl,sl],'bgimage', 'fa', 'bgsh', shbg, 'ha', ...\n",
    "    ha3,'bgalpha', 1, 'mask', mask, 'bbox', false, 'glyphs', false, 'origin', ...\n",
    "    [0;0;0],'direction',eye(3),'space','LPS','mframe',eye(3)  ); % FA image for the other half of the slice\n",
    "plotdmri3d(sh2,[mx+2,mx+30],[45,65],[sl,sl],'ha',ha3, 'bgimage', 'fa', 'bgsh', ...\n",
    "    shbg, 'bgalpha', 0, 'mask', mask & (FA>FATH), 'bbox', false, 'glyphs', true, 'angleres', ...\n",
    "    642, 'contrast', contrast, 'glyphspc', [1;1;1], 'glyphsc', 1,'glyphscvar', 'ga', 'origin', ...\n",
    "    [0;0;0],'direction',eye(3),'space','LPS','mframe',eye(3)  ); % Cool ODF glyphs in the CC and CG\n",
    "plotdmri3d(sh2,[mx+15,mx+30],[65,72],[sl,sl],'bgimage', 'fa', 'bgsh', shbg, 'ha', ...\n",
    "    ha3,'bgalpha', 1, 'mask', mask, 'bbox', false, 'glyphs', false, 'origin', ...\n",
    "    [0;0;0],'direction',eye(3),'space','LPS','mframe',eye(3)  ); % FA image for the other half of the slice\n",
    "plotdmri3d(sh2,[mx+15,mx+30],[66,72],[sl,sl],'ha',ha3, 'bgimage', 'fa', 'bgsh', ...\n",
    "    shbg, 'bgalpha', 0, 'mask', mask & (FA>FATH), 'bbox', false, 'glyphs', true, 'angleres', ...\n",
    "    642, 'contrast', contrast, 'glyphspc', [1;1;1], 'glyphsc', 1,'glyphscvar', 'ga', 'origin', ...\n",
    "    [0;0;0],'direction',eye(3),'space','LPS','mframe',eye(3)  ); % Cool ODF glyphs in the CC and CG\n",
    "light('Position',[1,0,1]); % Even cooler look\n",
    "axis('equal');\n",
    "axis('off');\n",
    "view(ha3,30,45);"
   ]
  }
 ],
 "metadata": {
  "kernelspec": {
   "display_name": "Octave",
   "language": "octave",
   "name": "octave"
  },
  "language_info": {
   "file_extension": ".m",
   "help_links": [
    {
     "text": "GNU Octave",
     "url": "https://www.gnu.org/software/octave/support.html"
    },
    {
     "text": "Octave Kernel",
     "url": "https://github.com/Calysto/octave_kernel"
    },
    {
     "text": "MetaKernel Magics",
     "url": "https://metakernel.readthedocs.io/en/latest/source/README.html"
    }
   ],
   "mimetype": "text/x-octave",
   "name": "octave",
   "version": "10.2.0"
  }
 },
 "nbformat": 4,
 "nbformat_minor": 4
}

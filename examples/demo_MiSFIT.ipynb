{
 "cells": [
  {
   "cell_type": "markdown",
   "metadata": {},
   "source": [
    "\n",
    "# <span style=\"color:rgb(213,80,0)\">Multi\\-shell acquisitions and micro\\-structure models</span>\n",
    "\n",
    "This demo illustrates most of the functions and utilities in the micro/ folder, i.e, the module related to the computational amalysis of multi\\-shell dMRI data. It is based on a linear convolutional model of the so\\-called ODF with an elemental impulse response corresponding to a prolate tensor with eigenvalues *lpar* and *lperp*.\n"
   ]
  },
  {
   "cell_type": "code",
   "execution_count": null,
   "metadata": {},
   "outputs": [],
   "source": [
    "addpath('..');\n",
    "setup__DMRIMatlab_toolbox('useparallel',false); % Will be ingnored if you don't have a licensed copy of the parallel toolbox\n",
    "clear;\n",
    "close('all');"
   ]
  },
  {
   "cell_type": "markdown",
   "metadata": {},
   "source": [
    "## Load data\n",
    "\n",
    "Load first your own sutiable multi\\-shell dMRI data set, which should include the attenuation signal (DWI over the averaged baseline), the mask to remove the background, the gradients table, and the b\\-values for each gradient direction:\n"
   ]
  },
  {
   "cell_type": "code",
   "execution_count": null,
   "metadata": {},
   "outputs": [],
   "source": [
    "tic;\n",
    "load test_data.mat;\n",
    "T=toc; % This is always a large piece of data\n",
    "fprintf(1,'It took %f seconds to load data\\n',T);\n",
    "whos -file test_data.mat; % Check the variables loaded, their kinds, and their sizes"
   ]
  },
  {
   "cell_type": "markdown",
   "metadata": {},
   "source": [
    "## Estimate the micro\\-structural model\n",
    "\n",
    "This section illustrates the usage of the [atti2micro](atti2micro.m) function, which is the core of micro\\-structure computation. It returns *f* (the volume fraction of confined, i.e. non\\-free water), *lpar*, and *lperp* ( the two eigenvalues of the elemental tensor in the linear convolution model). It is always assured that *mlp*<=*lperp*<=*lpar*<=*ADC0* and that 0<=*f*<=1. In the simplest use case, the function reduces to the original Kaden's method, so that *f*=1 (except for the background) and no regularization is imposed to *lpar* and *lperp*:\n"
   ]
  },
  {
   "cell_type": "code",
   "execution_count": null,
   "metadata": {},
   "outputs": [],
   "source": [
    "tic;\n",
    "[lpar,lperp,f] = atti2micro( atti, gi, bi, 'tl', 1.0e-6, 'tu', 1-1.0e-6, ...\n",
    "    'ADC0', 3.0e-3, 'usef', false, 'mask', mask, 'bth', 100, 'mlperp',0.0, ...\n",
    "    'mu', 0.0, 'verbose', true ); % This is the simplest use case\n",
    "T = toc; % This is pretty fast...\n",
    "fprintf(1,'It took %f seconds to complete\\n',T);"
   ]
  },
  {
   "cell_type": "markdown",
   "metadata": {},
   "source": [
    "\n",
    "In this simple case the estimation is pretty fast. Let's check the results:\n"
   ]
  },
  {
   "cell_type": "code",
   "execution_count": null,
   "metadata": {},
   "outputs": [],
   "source": [
    "sl = [5,7,9,11,13,15]; % These are the slices we will show\n",
    "F = [ f(:,:,sl(1))',f(:,:,sl(2))';f(:,:,sl(3))',f(:,:,sl(4))';f(:,:, ...\n",
    "    sl(5))',f(:,:,sl(6))']; % Parallel diffusivity\n",
    "LPA = [ lpar(:,:,sl(1))',lpar(:,:,sl(2))';lpar(:,:,sl(3))',lpar(:,:, ...\n",
    "    sl(4))';lpar(:,:,sl(5))',lpar(:,:,sl(6))']; % Parallel diffusivity\n",
    "LPP = [ lperp(:,:,sl(1))',lperp(:,:,sl(2))';lperp(:,:,sl(3))',lperp(:,:, ...\n",
    "    sl(4))';lperp(:,:,sl(5))',lperp(:,:,sl(6))']; % Perpendicular diffusivity"
   ]
  },
  {
   "cell_type": "markdown",
   "metadata": {},
   "source": [
    "\n",
    "This is the color map used throughout the demo. It is thought to provide a vast contrast so that subtle changes in the images are highlighted. If it results annoying  to you, change it here:\n"
   ]
  },
  {
   "cell_type": "code",
   "execution_count": null,
   "metadata": {},
   "outputs": [],
   "source": [
    "mapType = 'gray'; % Changing the colormap will trigger the entire demo\n",
    "switch(mapType)\n",
    "    case 'high'\n",
    "        MAP = psychedelia(512);\n",
    "    case 'gray'\n",
    "        MAP = gray(512); % B/W colormap\n",
    "    case 'default'\n",
    "        MAP = parula(512);\n",
    "end"
   ]
  },
  {
   "cell_type": "markdown",
   "metadata": {},
   "source": [
    "\n",
    "Plot the selected slices:\n"
   ]
  },
  {
   "cell_type": "code",
   "execution_count": null,
   "metadata": {},
   "outputs": [],
   "source": [
    "close(figure(1));\n",
    "hf = figure(1);\n",
    "set(hf,'Name','micro-structure model','Position',[10,10,700,340]);\n",
    "R=1; C=3;\n",
    "r=1; c=1; subplot('Position',[(c-1)/C,(r-1)/R,1/C,1/R]);\n",
    "imagesc(F,[0,1]); colormap(MAP); colorbar; title('f (non-free water)');\n",
    "axis('equal');axis('off');axis('tight');\n",
    "r=1; c=2; subplot('Position',[(c-1)/C,(r-1)/R,1/C,1/R]);\n",
    "imagesc(LPA,[1.5e-3,3.0e-3]); colormap(MAP); colorbar; title('\\lambda_{||} (mm^2/s)');\n",
    "axis('equal');axis('off');axis('tight');\n",
    "r=1; c=3; subplot('Position',[(c-1)/C,(r-1)/R,1/C,1/R]);\n",
    "imagesc(LPP,[0,0.3e-3]); colormap(MAP); colorbar; title('\\lambda_{\\perp} (mm^2/s)');\n",
    "axis('equal');axis('off');axis('tight');"
   ]
  },
  {
   "cell_type": "markdown",
   "metadata": {},
   "source": [
    "\n",
    "Though the estimated values of *lpar* and *lperp* seem quite consistent, there is a fundamental problem with Kaden's method: for regions like the corpus callosum, the value of *lperp* falls down to 0 (or *mlp*, as computed with [atti2micro](atti2micro.m)), so that *rho*=*lperp*/(*lpar*\\-*lperp*) and *kappa*=*lpar*/(*lpar*\\-*lperp*), which are important parameters in our model, present conflicitive values (0 or 1, respectively) and the calculation of moments becomes singular:\n"
   ]
  },
  {
   "cell_type": "code",
   "execution_count": null,
   "metadata": {},
   "outputs": [],
   "source": [
    "rho = lperp(mask)./(lpar(mask)-lperp(mask));\n",
    "kappa = lpar(mask)./(lpar(mask)-lperp(mask));\n",
    "close(figure(2));\n",
    "hf = figure(2);\n",
    "set(hf,'Name','Histograms of \\rho and \\lambda','Position',[10,10,700,400]);\n",
    "R=1; C=2;\n",
    "r=1; c=1; subplot('Position',[(c-1)/C+0.07,(r-1)/R+0.05,0.85/C,0.9/R]);\n",
    "histogram(rho(rho<0.5),100);\n",
    "title('Histogram of \\rho. Bad values near \\rho=0');\n",
    "r=1; c=2; subplot('Position',[(c-1)/C+0.07,(r-1)/R+0.05,0.85/C,0.9/R]);\n",
    "histogram(kappa(kappa<1.4),100);\n",
    "title('Histogram of \\kappa. Bad values near \\kappa=1');"
   ]
  },
  {
   "cell_type": "markdown",
   "metadata": {},
   "source": [
    "\n",
    " We will try to remove these 'bad values' by solving a regularized version of the problem where *lperp* is forced to be greater or equal than a given threshold *mlperp* and a penalty term *mu*\\*(*lpar*\\-*lperp*)/*lperp* = *mu*/ *rho* is added to the cost function (this is not in the orginal Kaden's method):\n"
   ]
  },
  {
   "cell_type": "code",
   "execution_count": null,
   "metadata": {},
   "outputs": [],
   "source": [
    "mu = 0.00015; % Changing the value will trigger the entire demo\n",
    "tic;\n",
    "[lpar,lperp,~] = atti2micro( atti, gi, bi, 'tl', 1.0e-6, 'tu', 1-1.0e-6, ...\n",
    "        'ADC0', 3.0e-3, 'usef', false, 'mask', mask, 'bth', 100, 'mlperp',0.01e-3, ...\n",
    "        'mu', mu, 'verbose', true ); % We have changed 'mlperp' and 'mu' opt. arguments\n",
    "T = toc; % Still quite fast\n",
    "fprintf(1,'It took %f seconds to complete\\n',T);"
   ]
  },
  {
   "cell_type": "markdown",
   "metadata": {},
   "source": [
    "\n",
    "The larger *mu*, the stronger the regularization, so that *lperp* will increase.\n"
   ]
  },
  {
   "cell_type": "code",
   "execution_count": null,
   "metadata": {},
   "outputs": [],
   "source": [
    "rho = lperp(mask)./(lpar(mask)-lperp(mask)); % rho sholud now avoid conflictive values\n",
    "kappa = lpar(mask)./(lpar(mask)-lperp(mask)); % kappa sholud now avoid conflictive values\n",
    "close(figure(3));\n",
    "hf = figure(3);\n",
    "set(hf,'Name','Histograms of \\rho and \\lambda','Position',[10,10,700,400]);\n",
    "R=1; C=2;\n",
    "r=1; c=1; subplot('Position',[(c-1)/C+0.07,(r-1)/R+0.05,0.85/C,0.9/R]);\n",
    "histogram(rho(rho<0.5),100);\n",
    "title('Histogram of \\rho. Bad values near \\rho=0');\n",
    "r=1; c=2; subplot('Position',[(c-1)/C+0.07,(r-1)/R+0.05,0.85/C,0.9/R]);\n",
    "histogram(kappa(kappa<1.4),100);\n",
    "title('Histogram of \\kappa. Bad values near \\kappa=1');"
   ]
  },
  {
   "cell_type": "markdown",
   "metadata": {},
   "source": [
    "\n",
    "A further refinement not present in Kaden's original work is the possibility to isolate a compartment with free\\-water, i.e. diffusion outside the neural axons. This is dramatically slower since a greedy search in *f* is performed. Besides, parallel computing doesn't seem to help here because it is hard to keep all matlab's workers busy:\n"
   ]
  },
  {
   "cell_type": "code",
   "execution_count": null,
   "metadata": {},
   "outputs": [],
   "source": [
    "tic;\n",
    "[lpar,lperp,f] = atti2micro( atti, gi, bi, 'tl', 1.0e-6, 'tu', 1-1.0e-6, ...\n",
    "    'ADC0', 3.0e-3, 'usef', true, 'regf', true,'mask', mask, 'bth', 100, ...\n",
    "    'mlperp',0.01e-3, 'mu', mu, 'verbose', true ); % We have changed the 'usef' opt. argument\n",
    "T = toc;\n",
    "fprintf(1,'It took %f seconds to complete\\n',T);\n",
    "F = [ f(:,:,sl(1))',f(:,:,sl(2))';f(:,:,sl(3))',f(:,:,sl(4))';f(:,:, ...\n",
    "    sl(5))',f(:,:,sl(6))']; % Parallel diffusivity\n",
    "LPA = [ lpar(:,:,sl(1))',lpar(:,:,sl(2))';lpar(:,:,sl(3))',lpar(:,:, ...\n",
    "    sl(4))';lpar(:,:,sl(5))',lpar(:,:,sl(6))']; % Parallel diffusivity\n",
    "LPP = [ lperp(:,:,sl(1))',lperp(:,:,sl(2))';lperp(:,:,sl(3))',lperp(:,:, ...\n",
    "    sl(4))';lperp(:,:,sl(5))',lperp(:,:,sl(6))']; % Perpendicular diffusivity\n",
    "close(figure(4));\n",
    "hf = figure(4);\n",
    "set(hf,'Name','micro-structure + free-water model','Position',[10,10,700,340]);\n",
    "R=1; C=3;\n",
    "r=1; c=1; subplot('Position',[(c-1)/C,(r-1)/R,1/C,1/R]);\n",
    "imagesc(F,[0,1]); colormap(MAP); colorbar; title('f (non-free water)');\n",
    "axis('equal');axis('off');axis('tight');\n",
    "r=1; c=2; subplot('Position',[(c-1)/C,(r-1)/R,1/C,1/R]);\n",
    "imagesc(LPA,[0.0e-3,3.0e-3]); colormap(MAP); colorbar; title('\\lambda_{||} (mm^2/s)');\n",
    "axis('equal');axis('off');axis('tight');\n",
    "r=1; c=3; subplot('Position',[(c-1)/C,(r-1)/R,1/C,1/R]);\n",
    "imagesc(LPP,[0,0.3e-3]); colormap(MAP); colorbar; title('\\lambda_{\\perp} (mm^2/s)');\n",
    "axis('equal');axis('off');axis('tight');"
   ]
  },
  {
   "cell_type": "markdown",
   "metadata": {},
   "source": [
    "\n",
    "It seems the free\\-water elimination is not a great idea, since the micro\\-structural model looks far too noisy. Besides, the value of *f* is strangely low at the corpus callosum, which indeed corrupts the micro\\-structural model yielding to very small, questionable values of *lpar*. This might be a matter of parameter tunning, since no effort has been made to check the effect of *mu*, *lperp*, *tl*, *tu*, etcetera on the estimated model. By now, we will just revert the last step and keep the mono\\-compartment, regularized model:\n"
   ]
  },
  {
   "cell_type": "code",
   "execution_count": null,
   "metadata": {},
   "outputs": [],
   "source": [
    "tic;\n",
    "[lpar,lperp,f] = atti2micro( atti, gi, bi, 'tl', 1.0e-6, 'tu', 1-1.0e-6, ...\n",
    "    'ADC0', 3.0e-3, 'usef', false, 'mask', mask, 'bth', 100, 'mlperp',0.01e-3, ...\n",
    "    'mu', 5.0e-4, 'verbose', true ); % No longer use the 'usef' flag\n",
    "T = toc; % Which is indeed very fast!\n",
    "fprintf(1,'It took %f seconds to complete\\n',T);\n",
    "F = [ f(:,:,sl(1))',f(:,:,sl(2))';f(:,:,sl(3))',f(:,:,sl(4))';f(:,:, ...\n",
    "    sl(5))',f(:,:,sl(6))']; % Parallel diffusivity\n",
    "LPA = [ lpar(:,:,sl(1))',lpar(:,:,sl(2))';lpar(:,:,sl(3))',lpar(:,:, ...\n",
    "    sl(4))';lpar(:,:,sl(5))',lpar(:,:,sl(6))']; % Parallel diffusivity\n",
    "LPP = [ lperp(:,:,sl(1))',lperp(:,:,sl(2))';lperp(:,:,sl(3))',lperp(:,:, ...\n",
    "    sl(4))';lperp(:,:,sl(5))',lperp(:,:,sl(6))']; % Perpendicular diffusivity\n",
    "hf = figure(5);\n",
    "set(hf,'Name','Regularized micro-structure model','Position',[10,10,700,340]);\n",
    "R=1; C=3;\n",
    "r=1; c=1; subplot('Position',[(c-1)/C,(r-1)/R,1/C,1/R]);\n",
    "imagesc(F,[0,1]); colormap(MAP); colorbar; title('f (non-free water)');\n",
    "axis('equal');axis('off');axis('tight');\n",
    "r=1; c=2; subplot('Position',[(c-1)/C,(r-1)/R,1/C,1/R]);\n",
    "imagesc(LPA,[1.5e-3,3.0e-3]); colormap(MAP); colorbar; title('\\lambda_{||} (mm^2/s)');\n",
    "axis('equal');axis('off');axis('tight');\n",
    "r=1; c=3; subplot('Position',[(c-1)/C,(r-1)/R,1/C,1/R]);\n",
    "imagesc(LPP,[0,0.3e-3]); colormap(MAP); colorbar; title('\\lambda_{\\perp} (mm^2/s)');\n",
    "axis('equal');axis('off');axis('tight');"
   ]
  },
  {
   "cell_type": "markdown",
   "metadata": {},
   "source": [
    "## ODFs estimation\n",
    "\n",
    "Once the micro\\-structure model is available, computing the ODFs field is a spherical deconvolution problem. Since we are using Spherical Harmonics, this is a trivial task that reduces to a linear LS fitting of SH coefficients. The present section illustrates how to use the function [micro2shodf](micro2shodf.m). This may take a good while since we invert one matrix per voxel:\n"
   ]
  },
  {
   "cell_type": "code",
   "execution_count": null,
   "metadata": {},
   "outputs": [],
   "source": [
    "tic; %\n",
    "sh = micro2shodf( atti, gi, bi, lpar, lperp, [], 'L', 8, 'tl', 1.0e-6, 'tu', ...\n",
    "    1-1.0e-6, 'mask', mask,'optimal', true, 'lambda', 0.0005 ); % The 'optimal' flag means one matrix is inverted at each voxel\n",
    "T = toc;\n",
    "fprintf(1,'It took %f seconds to compute the ODFs\\n',T);"
   ]
  },
  {
   "cell_type": "markdown",
   "metadata": {},
   "source": [
    "\n",
    "You can speed\\-up this computation by using a parallel implementation based on parfor loops. You just have to properly set\\-up the toolbox via: [setup\\_\\_DMRIMatlab\\_toolbox](setup__DMRIMatlab_toolbox.m)<u>('useparallel',true);</u> We can now visually check the results with our built\\-in plot feature:\n"
   ]
  },
  {
   "cell_type": "code",
   "execution_count": null,
   "metadata": {},
   "outputs": [],
   "source": [
    "close(figure(1)); close(figure(2)); % Close previous figures if necessary\n",
    "hf = figure(1); ha = axes('Parent',hf);\n",
    "sl = 14; mx = 53; % Select the piece of data to plot with our cool plotdmri3d\n",
    "plotdmri3d(sh,[1,mx],[1,110],[sl,sl],'bgimage', 'color', 'bgsh', sh, 'ha', ...\n",
    "    ha, 'bgalpha', 1, 'mask', mask, 'bbox', true, 'glyphs', false, 'origin', ...\n",
    "    [0;0;0],'direction',eye(3),'space','LPS','mframe',eye(3) ); % color-by-orientation half the slice\n",
    "plotdmri3d(sh,[mx,101],[1,110],[sl,sl],'bgimage', 'fa', 'bgsh', sh, 'ha', ...\n",
    "    ha,'bgalpha', 0.9, 'mask', mask, 'bbox', false, 'glyphs', false, 'origin', ...\n",
    "    [0;0;0],'direction',eye(3),'space','LPS','mframe',eye(3)  ); % FA image for the other half of the slice\n",
    "plotdmri3d(sh,[mx+2,mx+8],[45,65],[sl,sl],'ha',ha, 'bgimage', 'fa', 'bgsh', ...\n",
    "    sh, 'bgalpha', 0, 'mask', mask, 'bbox', false, 'glyphs', true, 'angleres', ...\n",
    "    642, 'glyphspc', [1;1;1], 'glyphsc', 2,'glyphscvar', 'none', 'origin', ...\n",
    "    [0;0;0],'direction',eye(3),'space','LPS','mframe',eye(3)  ); % Cool ODF glyphs in the CC and CG\n",
    "light; % Even cooler look\n",
    "axis('equal');\n",
    "rotate3d('on');\n",
    "title('Drag to rotare 3-D');"
   ]
  },
  {
   "cell_type": "markdown",
   "metadata": {},
   "source": [
    "\n",
    "The color\\-by\\-orientation, FA, and ODFs field look quite reasonable even without any denoising (this is not always the case with HARDI). To avoid the large computation time associated to the inversion of the LS matrix at each voxel, we may think of a sub\\-optimal scheme where only one matrix is pre\\-computed and inverted for the whole data set:\n"
   ]
  },
  {
   "cell_type": "code",
   "execution_count": null,
   "metadata": {},
   "outputs": [],
   "source": [
    "tic;\n",
    "sh2 = micro2shodf( atti, gi, bi, lpar, lperp, [], 'L', 8, 'tl', 1.0e-6, 'tu', ...\n",
    "    1-1.0e-6, 'mask', mask,'optimal', false, 'lambda', 0.0005 ); % Note 'optimal' is now false and we use 'reweight'\n",
    "T = toc; % This is pretty faster\n",
    "fprintf(1,'It took %f seconds to compute the ODFs\\n',T);\n",
    "close(figure(2)); % Close previous figures if necessary\n",
    "hf = figure(2); ha = axes('Parent',hf);\n",
    "sl = 14; mx = 53; % Select the piece of data to plot with our cool plotdmri3d\n",
    "plotdmri3d(sh2,[1,mx],[1,110],[sl,sl],'bgimage', 'color', 'bgsh', sh2, ...\n",
    "    'ha', ha, 'bgalpha', 1, 'mask', mask, 'bbox', true, 'glyphs', false, ...\n",
    "    'origin',[0;0;0],'direction',eye(3),'space','LPS','mframe',eye(3) ); % color-by-orientation half the slice\n",
    "plotdmri3d(sh2,[mx,101],[1,110],[sl,sl],'bgimage', 'fa', 'bgsh', sh2, 'ha', ...\n",
    "    ha,'bgalpha', 0.9, 'mask', mask, 'bbox', false, 'glyphs', false, 'origin', ...\n",
    "    [0;0;0],'direction',eye(3),'space','LPS','mframe',eye(3)  ); % FA image for the other half of the slice\n",
    "plotdmri3d(sh2,[mx+2,mx+8],[45,65],[sl,sl],'ha',ha, 'bgimage', 'fa', ...\n",
    "    'bgsh', sh2, 'bgalpha', 0, 'mask', mask, 'bbox', false, 'glyphs', true, ...\n",
    "    'angleres', 642, 'glyphspc', [1;1;1], 'glyphsc', 2,'glyphscvar', 'none', ...\n",
    "    'origin',[0;0;0],'direction',eye(3),'space','LPS','mframe',eye(3)  ); % Cool ODF glyphs in the CC and CG\n",
    "light % Even cooler look\n",
    "axis('equal');\n",
    "rotate3d('on');\n",
    "title('Drag to rotare 3-D');"
   ]
  },
  {
   "cell_type": "markdown",
   "metadata": {},
   "source": [
    "\n",
    "The results look pretty similar to those obtained with the optimal estimation method, both for the color\\-coded/FA maps and the ODFs field. However, we will keep by now the result of the optimal estimation method and discard the other one:\n"
   ]
  },
  {
   "cell_type": "code",
   "execution_count": null,
   "metadata": {},
   "outputs": [],
   "source": [
    "clear sh2;"
   ]
  },
  {
   "cell_type": "markdown",
   "metadata": {},
   "source": [
    "## Characterization of diffusion via moments computation. Full moments\n",
    "\n",
    "The next three sections illustrate the computation of arbitrary order moments to characterize the diffusion process, i.e., they illustrate the usage of [micro2moments](micro2moments.m). We start with the so\\-called 'full moments', computed as integrals in the whole 3\\-D space of either the attenaution signal or the EAP. This kind of moments depend just on the micro\\-structure (*lpar* and *lperp*) and not on the ODF. For the attenaution signal, E(q):\n"
   ]
  },
  {
   "cell_type": "code",
   "execution_count": null,
   "metadata": {},
   "outputs": [],
   "source": [
    "tic;\n",
    "UEm2 = micro2moments( [], lpar, lperp, [], 'mask', mask, 'type', 'Ef', 'nu', -2 ); % Orders >-3 are allowed\n",
    "T = toc; % For integer nu, the computation is quite fast\n",
    "fprintf(1,'It took %f seconds to compute the moment\\n',T);\n",
    "UEm1 = micro2moments( [], lpar, lperp, [], 'mask', mask, 'type', 'Ef', 'nu', -1, 'clean', 100 );  % Potentiate small q\n",
    "UEp0 = micro2moments( [], lpar, lperp, [], 'mask', mask, 'type', 'Ef', 'nu', 0,  'clean', 100 );  % This is just RTOP\n",
    "UEp1 = micro2moments( [], lpar, lperp, [], 'mask', mask, 'type', 'Ef', 'nu', 1,  'clean', 100 );  % Potentiate far-from-zero q\n",
    "UEp2 = micro2moments( [], lpar, lperp, [], 'mask', mask, 'type', 'Ef', 'nu', 2,  'clean', 100 );  % This is just QMSD"
   ]
  },
  {
   "cell_type": "markdown",
   "metadata": {},
   "source": [
    "\n",
    "This computation is very fast, since it is a trivial manipulation of *lperp* and *lpar*. Of course, different moments provide different contrast features:\n"
   ]
  },
  {
   "cell_type": "code",
   "execution_count": null,
   "metadata": {},
   "outputs": [],
   "source": [
    "sl = [4,8,12]; % Slices to plot\n",
    "close(figure(1)); close(figure(2)); % Close previous figures if needed\n",
    "hf = figure(1);\n",
    "set(hf,'Name','Full moments over E(q)','Position',[10,10,900,460]);\n",
    "R=1; C=5;\n",
    "r=1; c=1; subplot('Position',[(c-1)/C,(r-1)/R,1/C,1/R]);\n",
    "imagesc([UEm2(:,:,sl(1))';UEm2(:,:,sl(2))';UEm2(:,:, ...\n",
    "    sl(3))';]); colormap(MAP); colorbar; title('\\Upsilon^{-2}');\n",
    "axis('equal');axis('off');axis('tight');\n",
    "r=1; c=2; subplot('Position',[(c-1)/C,(r-1)/R,1/C,1/R]);\n",
    "imagesc([UEm1(:,:,sl(1))';UEm1(:,:,sl(2))';UEm1(:,:, ...\n",
    "    sl(3))';]); colormap(MAP); colorbar; title('\\Upsilon^{-1}');\n",
    "axis('equal');axis('off');axis('tight');\n",
    "r=1; c=3; subplot('Position',[(c-1)/C,(r-1)/R,1/C,1/R]);\n",
    "imagesc([UEp0(:,:,sl(1))';UEp0(:,:,sl(2))';UEp0(:,:, ...\n",
    "    sl(3))';]); colormap(MAP); colorbar; title('\\Upsilon^{0} = RTOP');\n",
    "axis('equal');axis('off');axis('tight');\n",
    "r=1; c=4; subplot('Position',[(c-1)/C,(r-1)/R,1/C,1/R]);\n",
    "imagesc([UEp1(:,:,sl(1))';UEp1(:,:,sl(2))';UEp1(:,:, ...\n",
    "    sl(3))';]); colormap(MAP); colorbar; title('\\Upsilon^{1}');\n",
    "axis('equal');axis('off');axis('tight');\n",
    "r=1; c=5; subplot('Position',[(c-1)/C,(r-1)/R,1/C,1/R]);\n",
    "imagesc([UEp2(:,:,sl(1))';UEp2(:,:,sl(2))';UEp2(:,:, ...\n",
    "    sl(3))';]); colormap(MAP); colorbar; title('\\Upsilon^{2} = QMSD');\n",
    "axis('equal');axis('off');axis('tight');"
   ]
  },
  {
   "cell_type": "markdown",
   "metadata": {},
   "source": [
    "\n",
    "The computation for the EAP is analogous, but the features highlighted are completely different:\n"
   ]
  },
  {
   "cell_type": "code",
   "execution_count": null,
   "metadata": {},
   "outputs": [],
   "source": [
    "UPm2 = micro2moments( [], lpar, lperp, [], 'mask', mask, 'type', 'Pf', 'nu', -2 ); % Orders >-3 are allowed\n",
    "UPm1 = micro2moments( [], lpar, lperp, [], 'mask', mask, 'type', 'Pf', 'nu', -1 ); % Potentiate small R\n",
    "UPp0 = micro2moments( [], lpar, lperp, [], 'mask', mask, 'type', 'Pf', 'nu', 0 );  % This is just 1!!!\n",
    "UPp1 = micro2moments( [], lpar, lperp, [], 'mask', mask, 'type', 'Pf', 'nu', 1 );  % Potentiate far-from-zero R\n",
    "UPp2 = micro2moments( [], lpar, lperp, [], 'mask', mask, 'type', 'Pf', 'nu', 2 );  % This is just MSD\n",
    "sl = [4,8,12]; % Slices to plot\n",
    "hf = figure(2);\n",
    "set(hf,'Name','Full moments over P(R)','Position',[10,10,900,460]);\n",
    "R=1; C=5;\n",
    "r=1; c=1; subplot('Position',[(c-1)/C,(r-1)/R,1/C,1/R]);\n",
    "imagesc([UPm2(:,:,sl(1))';UPm2(:,:,sl(2))';UPm2(:,:, ...\n",
    "    sl(3))';]); colormap(MAP); colorbar; title('\\upsilon^{-2}');\n",
    "axis('equal');axis('off');axis('tight');\n",
    "r=1; c=2; subplot('Position',[(c-1)/C,(r-1)/R,1/C,1/R]);\n",
    "imagesc([UPm1(:,:,sl(1))';UPm1(:,:,sl(2))';UPm1(:,:, ...\n",
    "    sl(3))';]); colormap(MAP); colorbar; title('\\upsilon^{-1}');\n",
    "axis('equal');axis('off');axis('tight');\n",
    "r=1; c=3; subplot('Position',[(c-1)/C,(r-1)/R,1/C,1/R]);\n",
    "imagesc([UPp0(:,:,sl(1))';UPp0(:,:,sl(2))';UPp0(:,:, ...\n",
    "    sl(3))';]); colormap(MAP); colorbar; title('\\upsilon^{0} = 1');\n",
    "axis('equal');axis('off');axis('tight');\n",
    "r=1; c=4; subplot('Position',[(c-1)/C,(r-1)/R,1/C,1/R]);\n",
    "imagesc([UPp1(:,:,sl(1))';UPp1(:,:,sl(2))';UPp1(:,:, ...\n",
    "    sl(3))';]); colormap(MAP); colorbar; title('\\upsilon^{1}');\n",
    "axis('equal');axis('off');axis('tight');\n",
    "r=1; c=5; subplot('Position',[(c-1)/C,(r-1)/R,1/C,1/R]);\n",
    "imagesc([UPp2(:,:,sl(1))';UPp2(:,:,sl(2))';UPp2(:,:, ...\n",
    "    sl(3))';]); colormap(MAP); colorbar; title('\\upsilon^{2} = MSD');\n",
    "axis('equal');axis('off');axis('tight');"
   ]
  },
  {
   "cell_type": "markdown",
   "metadata": {},
   "source": [
    "## Axial moments\n",
    "\n",
    "Axial moments depend on a direction provided at each voxel, typically the direction of maximum diffusion. But they could be otherwise computed over vector fields computed from tractography, or over any other meaningful vector field:\n"
   ]
  },
  {
   "cell_type": "code",
   "execution_count": null,
   "metadata": {},
   "outputs": [],
   "source": [
    "tens = shadc2dti(sh,'mask',mask,'unroll',false ); % Compute a tensor field from the SH volume\n",
    "u0 = dti2xyz( tens, 'mask', mask ); % Maximum diffusion direction"
   ]
  },
  {
   "cell_type": "markdown",
   "metadata": {},
   "source": [
    "\n",
    "[dti2xyz](dti2xyz.m) also benefits from parallel computations, but it is no big deal since the function itself is quite fast.\n",
    "\n",
    "\n",
    "Axial moments will depend on both the micro\\-structure model and the ODF. Begin with E(q):\n"
   ]
  },
  {
   "cell_type": "code",
   "execution_count": null,
   "metadata": {},
   "outputs": [],
   "source": [
    "tic; % Non-integer moments take far longer to compute because of the usage of hypergeom\n",
    "UEm12 = micro2moments( sh, lpar, lperp, [], 'mask', mask, 'type', 'Ea', 'nu', -1/2, 'u0', u0 ); % Orders >-1 are allowed\n",
    "T = toc;\n",
    "fprintf(1,'It took %f seconds to compute the moment\\n',T);\n",
    "UEm14 = micro2moments( sh, lpar, lperp, [], 'mask', mask, 'type', 'Ea', 'nu', -1/4, 'u0', u0, 'clean', 100 ); % Potentiate small q\n",
    "UEp0  = micro2moments( sh, lpar, lperp, [], 'mask', mask, 'type', 'Ea', 'nu', 0, 'u0', u0,    'clean', 100 ); % This is just RTPP\n",
    "UEp1  = micro2moments( sh, lpar, lperp, [], 'mask', mask, 'type', 'Ea', 'nu', 1, 'u0', u0,    'clean', 100 ); % Potentiate far-from-zero q\n",
    "UEp2  = micro2moments( sh, lpar, lperp, [], 'mask', mask, 'type', 'Ea', 'nu', 2, 'u0', u0,    'clean', 100 ); % Potentiate farther-from-zero q"
   ]
  },
  {
   "cell_type": "markdown",
   "metadata": {},
   "source": [
    "\n",
    "Though non\\-integer moments imply the computation of hypergeometric functions, we provide an efficient algorithm for the special case 2F1 in the function [dmri\\_2F1](dmri_2F1.m), so that the overload is not that important.\n"
   ]
  },
  {
   "cell_type": "code",
   "execution_count": null,
   "metadata": {},
   "outputs": [],
   "source": [
    "sl = [4,8,12]; % Slices to plot\n",
    "close(figure(1)); close(figure(2)); % Close previous figures if needed\n",
    "hf = figure(1);\n",
    "set(hf,'Name','Axial moments over E(q)','Position',[10,10,900,460]);\n",
    "R=1; C=5;\n",
    "r=1; c=1; subplot('Position',[(c-1)/C,(r-1)/R,1/C,1/R]);\n",
    "imagesc([UEm12(:,:,sl(1))';UEm12(:,:,sl(2))';UEm12(:,:, ...\n",
    "    sl(3))';]); colormap(MAP); colorbar; title('\\Upsilon_a^{-1/2}');\n",
    "axis('equal');axis('off');axis('tight');\n",
    "r=1; c=2; subplot('Position',[(c-1)/C,(r-1)/R,1/C,1/R]);\n",
    "imagesc([UEm14(:,:,sl(1))';UEm14(:,:,sl(2))';UEm14(:,:, ...\n",
    "    sl(3))';]); colormap(MAP); colorbar; title('\\Upsilon_a^{-1/4}');\n",
    "axis('equal');axis('off');axis('tight');\n",
    "r=1; c=3; subplot('Position',[(c-1)/C,(r-1)/R,1/C,1/R]);\n",
    "imagesc([UEp0(:,:,sl(1))';UEp0(:,:,sl(2))';UEp0(:,:, ...\n",
    "    sl(3))';]); colormap(MAP); colorbar; title('\\Upsilon_a^{0} = \\upsilon_p^{0}=RTPP');\n",
    "axis('equal');axis('off');axis('tight');\n",
    "r=1; c=4; subplot('Position',[(c-1)/C,(r-1)/R,1/C,1/R]);\n",
    "imagesc([UEp1(:,:,sl(1))';UEp1(:,:,sl(2))';UEp1(:,:, ...\n",
    "    sl(3))';]); colormap(MAP); colorbar; title('\\Upsilon_a^{1}');\n",
    "axis('equal');axis('off');axis('tight');\n",
    "r=1; c=5; subplot('Position',[(c-1)/C,(r-1)/R,1/C,1/R]);\n",
    "imagesc([UEp2(:,:,sl(1))';UEp2(:,:,sl(2))';UEp2(:,:, ...\n",
    "    sl(3))';]); colormap(MAP); colorbar; title('\\Upsilon_a^{2}');\n",
    "axis('equal');axis('off');axis('tight');"
   ]
  },
  {
   "cell_type": "markdown",
   "metadata": {},
   "source": [
    "\n",
    "Moments related to the EAP are computed in the same way:\n"
   ]
  },
  {
   "cell_type": "code",
   "execution_count": null,
   "metadata": {},
   "outputs": [],
   "source": [
    "UPm12 = micro2moments( sh, lpar, lperp, [], 'mask', mask, 'type', 'Pa', 'nu', -1/2, 'u0', u0, 'clean',  100 ); % Orders >-1 are allowed\n",
    "UPm14 = micro2moments( sh, lpar, lperp, [], 'mask', mask, 'type', 'Pa', 'nu', -1/4, 'u0', u0, 'clean',  100 ); % Potentiate small q\n",
    "UPp0  = micro2moments( sh, lpar, lperp, [], 'mask', mask, 'type', 'Pa', 'nu', 0, 'u0', u0,    'clean',  100 );\n",
    "UPp1  = micro2moments( sh, lpar, lperp, [], 'mask', mask, 'type', 'Pa', 'nu', 1, 'u0', u0,    'clean',  100 ); % Potentiate far-from-zero q\n",
    "UPp2  = micro2moments( sh, lpar, lperp, [], 'mask', mask, 'type', 'Pa', 'nu', 2, 'u0', u0,    'clean',  100 ); % Potentiate farther-from-zero q\n",
    "sl = [4,8,12]; % Slices to plot\n",
    "hf = figure(2);\n",
    "set(hf,'Name','Axial moments over P(R)','Position',[10,10,900,460]);\n",
    "R=1; C=5;\n",
    "r=1; c=1; subplot('Position',[(c-1)/C,(r-1)/R,1/C,1/R]);\n",
    "imagesc([UPm12(:,:,sl(1))';UPm12(:,:,sl(2))';UPm12(:,:, ...\n",
    "    sl(3))';]); colormap(MAP); colorbar; title('\\upsilon_a^{-1/2}');\n",
    "axis('equal');axis('off');axis('tight');\n",
    "r=1; c=2; subplot('Position',[(c-1)/C,(r-1)/R,1/C,1/R]);\n",
    "imagesc([UPm14(:,:,sl(1))';UPm14(:,:,sl(2))';UPm14(:,:, ...\n",
    "    sl(3))';]); colormap(MAP); colorbar; title('\\upsilon_a^{-1/4}');\n",
    "axis('equal');axis('off');axis('tight');\n",
    "r=1; c=3; subplot('Position',[(c-1)/C,(r-1)/R,1/C,1/R]);\n",
    "imagesc([UPp0(:,:,sl(1))';UPp0(:,:,sl(2))';UPp0(:,:, ...\n",
    "    sl(3))';]); colormap(MAP); colorbar; title('\\upsilon_a^{0} = \\Upsilon_p^{0} = RTAP');\n",
    "axis('equal');axis('off');axis('tight');\n",
    "r=1; c=4; subplot('Position',[(c-1)/C,(r-1)/R,1/C,1/R]);\n",
    "imagesc([UPp1(:,:,sl(1))';UPp1(:,:,sl(2))';UPp1(:,:, ...\n",
    "    sl(3))';]); colormap(MAP); colorbar; title('\\upsilon_a^{1}');\n",
    "axis('equal');axis('off');axis('tight');\n",
    "r=1; c=5; subplot('Position',[(c-1)/C,(r-1)/R,1/C,1/R]);\n",
    "imagesc([UPp2(:,:,sl(1))';UPp2(:,:,sl(2))';UPp2(:,:, ...\n",
    "    sl(3))';]); colormap(MAP); colorbar; title('\\upsilon_a^{2}');\n",
    "axis('equal');axis('off');axis('tight');"
   ]
  },
  {
   "cell_type": "markdown",
   "metadata": {},
   "source": [
    "## Planar moments\n",
    "\n",
    "Planar moments depend on a direction provided at each voxel, typically the direction of maximum diffusion. But they could be otherwise computed over vector fields computed from tractography, or over any other meaningful vector field. Planar moments will depend on both the micro\\-structure model and the ODF. Begin with E(q):\n"
   ]
  },
  {
   "cell_type": "code",
   "execution_count": null,
   "metadata": {},
   "outputs": [],
   "source": [
    "UEm12 = micro2moments( sh, lpar, lperp, [], 'mask', mask, 'type', 'Ep', 'nu', -1/2, 'u0', u0, 'clean',  100 ); % Orders >-2 are allowed\n",
    "UEm14 = micro2moments( sh, lpar, lperp, [], 'mask', mask, 'type', 'Ep', 'nu', -1/4, 'u0', u0, 'clean',  100 ); % Potentiate small q\n",
    "UEp0  = micro2moments( sh, lpar, lperp, [], 'mask', mask, 'type', 'Ep', 'nu', 0, 'u0', u0,    'clean',  100 ); % This is just RTAP\n",
    "UEp1  = micro2moments( sh, lpar, lperp, [], 'mask', mask, 'type', 'Ep', 'nu', 1, 'u0', u0,    'clean',  100 ); % Potentiate far-from-zero q\n",
    "UEp2  = micro2moments( sh, lpar, lperp, [], 'mask', mask, 'type', 'Ep', 'nu', 2, 'u0', u0,    'clean',  100 ); % Potentiate farther-from-zero q\n",
    "sl = [4,8,12]; % Slices to plot\n",
    "close(figure(1)); close(figure(2));\n",
    "hf = figure(1);\n",
    "set(hf,'Name','Planar moments over E(q)','Position',[10,10,900,460]);\n",
    "R=1; C=5;\n",
    "r=1; c=1; subplot('Position',[(c-1)/C,(r-1)/R,1/C,1/R]);\n",
    "imagesc([UEm12(:,:,sl(1))';UEm12(:,:,sl(2))';UEm12(:,:, ...\n",
    "    sl(3))';]); colormap(MAP); colorbar; title('\\Upsilon_p^{-1/2}');\n",
    "axis('equal');axis('off');axis('tight');\n",
    "r=1; c=2; subplot('Position',[(c-1)/C,(r-1)/R,1/C,1/R]);\n",
    "imagesc([UEm14(:,:,sl(1))';UEm14(:,:,sl(2))';UEm14(:,:, ...\n",
    "    sl(3))';]); colormap(MAP); colorbar; title('\\Upsilon_p^{-1/4}');\n",
    "axis('equal');axis('off');axis('tight');\n",
    "r=1; c=3; subplot('Position',[(c-1)/C,(r-1)/R,1/C,1/R]);\n",
    "imagesc([UEp0(:,:,sl(1))';UEp0(:,:,sl(2))';UEp0(:,:, ...\n",
    "    sl(3))';]); colormap(MAP); colorbar; title('\\Upsilon_p^{0} = \\upsilon_a^{0}=RTAP');\n",
    "axis('equal');axis('off');axis('tight');\n",
    "r=1; c=4; subplot('Position',[(c-1)/C,(r-1)/R,1/C,1/R]);\n",
    "imagesc([UEp1(:,:,sl(1))';UEp1(:,:,sl(2))';UEp1(:,:, ...\n",
    "    sl(3))';]); colormap(MAP); colorbar; title('\\Upsilon_p^{1}');\n",
    "axis('equal');axis('off');axis('tight');\n",
    "r=1; c=5; subplot('Position',[(c-1)/C,(r-1)/R,1/C,1/R]);\n",
    "imagesc([UEp2(:,:,sl(1))';UEp2(:,:,sl(2))';UEp2(:,:, ...\n",
    "    sl(3))';]); colormap(MAP); colorbar; title('\\Upsilon_p^{2}');\n",
    "axis('equal');axis('off');axis('tight');"
   ]
  },
  {
   "cell_type": "markdown",
   "metadata": {},
   "source": [
    "\n",
    "The same can be done for the EAP, P(R):\n"
   ]
  },
  {
   "cell_type": "code",
   "execution_count": null,
   "metadata": {},
   "outputs": [],
   "source": [
    "UPm12 = micro2moments( sh, lpar, lperp, [], 'mask', mask, 'type', 'Pp', 'nu', -1/2, 'u0', u0, 'clean',  100 ); % Orders >-2 are allowed\n",
    "UPm14 = micro2moments( sh, lpar, lperp, [], 'mask', mask, 'type', 'Pp', 'nu', -1/4, 'u0', u0, 'clean',  100 ); % Potentiate small q\n",
    "UPp0  = micro2moments( sh, lpar, lperp, [], 'mask', mask, 'type', 'Pp', 'nu', 0, 'u0', u0,    'clean',  100 );\n",
    "UPp1  = micro2moments( sh, lpar, lperp, [], 'mask', mask, 'type', 'Pp', 'nu', 1, 'u0', u0,    'clean',  100 ); % Potentiate far-from-zero q\n",
    "UPp2  = micro2moments( sh, lpar, lperp, [], 'mask', mask, 'type', 'Pp', 'nu', 2, 'u0', u0,    'clean',  100 ); % Potentiate farther-from-zero q\n",
    "sl = [4,8,12]; % Slices to plot\n",
    "hf = figure(2);\n",
    "set(hf,'Name','Planar moments over P(R)','Position',[10,10,900,460]);\n",
    "R=1; C=5;\n",
    "r=1; c=1; subplot('Position',[(c-1)/C,(r-1)/R,1/C,1/R]);\n",
    "imagesc([UPm12(:,:,sl(1))';UPm12(:,:,sl(2))';UPm12(:,:, ...\n",
    "    sl(3))';]); colormap(MAP); colorbar; title('\\upsilon_p^{-1/2}');\n",
    "axis('equal');axis('off');axis('tight');\n",
    "r=1; c=2; subplot('Position',[(c-1)/C,(r-1)/R,1/C,1/R]);\n",
    "imagesc([UPm14(:,:,sl(1))';UPm14(:,:,sl(2))';UPm14(:,:, ...\n",
    "    sl(3))';]); colormap(MAP); colorbar; title('\\upsilon_p^{-1/4}');\n",
    "axis('equal');axis('off');axis('tight');\n",
    "r=1; c=3; subplot('Position',[(c-1)/C,(r-1)/R,1/C,1/R]);\n",
    "imagesc([UPp0(:,:,sl(1))';UPp0(:,:,sl(2))';UPp0(:,:, ...\n",
    "    sl(3))';]); colormap(MAP); colorbar; title('\\upsilon_p^{0} = \\Upsilon_a^{0} = RTPP');\n",
    "axis('equal');axis('off');axis('tight');\n",
    "r=1; c=4; subplot('Position',[(c-1)/C,(r-1)/R,1/C,1/R]);\n",
    "imagesc([UPp1(:,:,sl(1))';UPp1(:,:,sl(2))';UPp1(:,:, ...\n",
    "    sl(3))';]); colormap(MAP); colorbar; title('\\upsilon_p^{1}');\n",
    "axis('equal');axis('off');axis('tight');\n",
    "r=1; c=5; subplot('Position',[(c-1)/C,(r-1)/R,1/C,1/R]);\n",
    "imagesc([UPp2(:,:,sl(1))';UPp2(:,:,sl(2))';UPp2(:,:, ...\n",
    "    sl(3))';]); colormap(MAP); colorbar; title('\\upsilon_p^{2}');\n",
    "axis('equal');axis('off');axis('tight');"
   ]
  },
  {
   "cell_type": "markdown",
   "metadata": {},
   "source": [
    "\n",
    "Finally note that for *nu=0* there is a direct relationship between planar moments computed over E(q) and axial moments compute over P(R) (and vice\\-versa) by virtue of the central section theorem. More concretely:\n",
    "\n",
    "-  The axial moment of order *nu=0* computed over E(q) will equal the planar moment of order *nu=0* computed over P(R) (this is just RTPP).\n",
    "-  The planar moment of order *nu=0* computed over E(q) will equal the axial moment of order *nu=0* computed over P(R) (this is just RTAP).\n",
    "## Propagator Anisotropy\n",
    "\n",
    "The PA is related to the distance from the EAP (or, equivalently, E(q)) to its isotropic equivalent defined as its spherical average. In our framework, this reduces once again to a manipulation of the SH coefficients. In this case there is not an analytical closed\\-form available, so the calculations rely on precomputed integrals implemented in [dmri\\_compute\\_PA\\_weights](dmri_compute_PA_weights.m). However, it is unlikely that you need to explicitly call that function, since it will be invoked as needed by [micro2pa](micro2pa.m), which is the function we illustrate in this section. In the simplest case,\n"
   ]
  },
  {
   "cell_type": "code",
   "execution_count": null,
   "metadata": {},
   "outputs": [],
   "source": [
    "tic;\n",
    "pa = micro2pa( sh, lpar, lperp, 'mask', mask, 'epsilon', [] );\n",
    "T = toc; % This is pretty fast\n",
    "fprintf(1,'It took %f seconds to compute the PA\\n',T);\n",
    "close(figure(1));\n",
    "figure(1);\n",
    "sl = [5,7,9,11,13,15]; % These are the slices we will show\n",
    "PA = [ pa(:,:,sl(1))',pa(:,:,sl(2))';pa(:,:,sl(3))',pa(:,:,sl(4))';pa(:,:, ...\n",
    "    sl(5))',pa(:,:,sl(6))'];\n",
    "imagesc(PA,[0,1]); colormap(MAP); colorbar; title('Propagator anisotropy');\n",
    "axis('equal');axis('off');axis('tight');"
   ]
  },
  {
   "cell_type": "markdown",
   "metadata": {},
   "source": [
    "\n",
    "However, the raw values of the PA are not well distributed over the range \\[0,1\\], so that a gamma correction is usually applied to improve its visual performance. You can fix this by properly tunning the optional input parameter *epsilon*:\n"
   ]
  },
  {
   "cell_type": "code",
   "execution_count": null,
   "metadata": {},
   "outputs": [],
   "source": [
    "pa = micro2pa( sh, lpar, lperp, 'mask', mask, 'epsilon', 0.4 );\n",
    "figure(1);\n",
    "sl = [5,7,9,11,13,15]; % These are the slices we will show\n",
    "PA = [ pa(:,:,sl(1))',pa(:,:,sl(2))';pa(:,:,sl(3))',pa(:,:,sl(4))';pa(:,:, ...\n",
    "    sl(5))',pa(:,:,sl(6))'];\n",
    "imagesc(PA,[0,1]); colormap(MAP); colorbar; title('Propagator anisotropy (gamma corrected)');\n",
    "axis('equal');axis('off');axis('tight');"
   ]
  },
  {
   "cell_type": "markdown",
   "metadata": {},
   "source": [
    "\n",
    "Finally, we can as well compute the PA at a microscopic level, i.e., compute the PA of the elemental tensor that describes the linear convolution model. The optional input argument *micro* is used to that end. Note in this case the ODF is not relevant at all, so you can pass an empty array as the first input argument:\n"
   ]
  },
  {
   "cell_type": "code",
   "execution_count": null,
   "metadata": {},
   "outputs": [],
   "source": [
    "pa = micro2pa( [], lpar, lperp, 'mask', mask, 'epsilon', [], 'micro', true );\n",
    "figure(1);\n",
    "sl = [5,7,9,11,13,15]; % These are the slices we will show\n",
    "PA = [ pa(:,:,sl(1))',pa(:,:,sl(2))';pa(:,:,sl(3))',pa(:,:,sl(4))';pa(:,:, ...\n",
    "    sl(5))',pa(:,:,sl(6))'];\n",
    "imagesc(PA,[0,1]); colormap(MAP); colorbar; title('micro-Propagator anisotropy');\n",
    "axis('equal');axis('off');axis('tight');"
   ]
  },
  {
   "cell_type": "markdown",
   "metadata": {},
   "source": [
    "\n",
    "In this case the gamma correction (not shown) is a total disgrace. On the other hand, the raw\\-micro\\-PA doesn't seem very informative irself. It makes kind of sense, since at the end of the day we are just computing something related to the anisotropy of the elemental diffusion tensor, which we now is vastly prolate beforehand.\n",
    "\n",
    "## Non\\-gaussianity\n",
    "\n",
    "The NG is related to the distance from the EAP (or, equivalently, E(q)) to its *Gaussian equivalent*, which may be estimated in several ways. In our framework, this reduces once again to a manipulation of the SH coefficients. In this case there is not an analytical closed\\-form available, so the calculations rely on precomputed integrals implemented in [dmri\\_compute\\_PA\\_weights](dmri_compute_PA_weights.m). However, it is unlikely that you need to explicitly call that function, since it will be invoked as needed by [micro2ng](micro2ng.m), which is the function we illustrate in this section. In the simplest case,\n"
   ]
  },
  {
   "cell_type": "code",
   "execution_count": null,
   "metadata": {},
   "outputs": [],
   "source": [
    "tic;\n",
    "atti2 = micro2atti(sh, lpar, lperp, [], gi(bi<=1999,:), bi(bi<=1999,:), 'mask', mask );\n",
    "T = toc;\n",
    "fprintf(1,'It took %f seconds to reconstruct E(q) from the model\\n',T);\n",
    "tic;\n",
    "sh2 = atti2shadc( atti2, gi(bi<=1999,:), bi(bi<=1999,:), 'mask', mask, 'L', 2 , 'lambda', 0.0001 );\n",
    "dti = shadc2dti(sh2, 'mask', mask ,'unroll', false);\n",
    "T = toc;\n",
    "fprintf(1,'It took %f seconds to compute the tensor model\\n',T);\n",
    "tic;\n",
    "ng = micro2ng( sh, lpar, lperp, dti, 'mask', mask, 'epsilon',[], 'lambda', 1.0e-9 );\n",
    "T = toc;\n",
    "fprintf(1,'It took %f seconds to compute the NG\\n',T);\n",
    "close(figure(1));\n",
    "hf = figure(1);\n",
    "set(hf,'Name','Non-Gaussianity');\n",
    "NG = [ ng(:,:,sl(1))',ng(:,:,sl(2))';ng(:,:,sl(3))',ng(:,:,sl(4))';ng(:,:, ...\n",
    "    sl(5))',ng(:,:,sl(6))'];\n",
    "imagesc(NG,[0,1]); colormap(MAP); colorbar; title('Non-Gaussianity-MiSFIT');\n",
    "axis('equal');axis('off');axis('tight');"
   ]
  }
 ],
 "metadata": {
  "kernelspec": {
   "display_name": "Octave",
   "language": "octave",
   "name": "octave"
  },
  "language_info": {
   "file_extension": ".m",
   "help_links": [
    {
     "text": "GNU Octave",
     "url": "https://www.gnu.org/software/octave/support.html"
    },
    {
     "text": "Octave Kernel",
     "url": "https://github.com/Calysto/octave_kernel"
    },
    {
     "text": "MetaKernel Magics",
     "url": "https://metakernel.readthedocs.io/en/latest/source/README.html"
    }
   ],
   "mimetype": "text/x-octave",
   "name": "octave",
   "version": "10.2.0"
  }
 },
 "nbformat": 4,
 "nbformat_minor": 4
}

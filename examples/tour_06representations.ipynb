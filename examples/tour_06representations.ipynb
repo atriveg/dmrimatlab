{
 "cells": [
  {
   "cell_type": "markdown",
   "metadata": {},
   "source": [
    "\n",
    "# <span style=\"color:rgb(213,80,0)\">Representation of diffusion MRI data: color coding, glyphs, tractography and beyond</span>\n",
    "\n",
    "In the previous chapters we have focused on voxel\\-wise quantitative information extracted from diffusion volumes, but we have more or less neglected orientation and tract\\-based information (except for the color\\-coded maps in DTI). In this chapter we will introduce the advanced graphics capabilities of <samp>DMRIMatlab</samp>, both for DTI and the non\\-Gaussian representations presented in the previous chapter. Our <samp>DMRIMatlab</samp> bases all these representations in the same function <samp>plotdmri3d</samp>:\n",
    "\n",
    "<pre>\n",
    "help plotdmri3d\n",
    "</pre>\n",
    "\n",
    "As you can see, it has plenty of options that can result somehow overwhelming. However, we will try to illustrate some usual use cases.\n",
    "\n",
    "\n",
    " ***TO DO:*** Clear all variables and figures to start from zero (*Ctrl+ENTER*):\n"
   ]
  },
  {
   "cell_type": "code",
   "execution_count": null,
   "metadata": {},
   "outputs": [],
   "source": [
    "addpath('..');\n",
    "setup__DMRIMatlab_toolbox;\n",
    "clear;\n",
    "close('all');"
   ]
  },
  {
   "cell_type": "markdown",
   "metadata": {},
   "source": [
    "\n",
    "For this chapter we will use an *ad hoc* data set that, as opposed to those we have used before:\n",
    "\n",
    "-  Comprises all slices of the acquisition, so that its resolution is the same for all axes.\n",
    "-  Contains pre\\-processed data instead of raw attenuation signals."
   ]
  },
  {
   "cell_type": "code",
   "execution_count": null,
   "metadata": {},
   "outputs": [],
   "source": [
    "whos -file test_data4\n",
    "load test_data4"
   ]
  },
  {
   "cell_type": "markdown",
   "metadata": {},
   "source": [
    "\n",
    "Note we have a variable <samp>dti</samp> with the tensor volume computed for the subject. Besides, <samp>lpar</samp>, <samp>lperp</samp> are the micro\\-structure parameters of MiSFIT's convolution kernel, and <samp>shodf</samp> are the SH coefficients of MiSFIT's ODF. The variable <samp>ijk2xyz</samp> is used to relate the orientations of the raster scan of the voxels with the actual anatomical orientations of the subject (necessary to properly interpret voxel\\-wise orientations). Besides, we have a variable <samp>labs</samp> which contains manual segmentations of certain white matter regions.\n",
    "\n",
    "## 1\\- Represent image slices in 3\\-D\n",
    "\n",
    "The function <samp>plotdmri3d</samp> is meant to be acumulative, i.e., several elements will be added to the same figure with each call."
   ]
  },
  {
   "cell_type": "markdown",
   "metadata": {},
   "source": [
    "\n",
    "A \"slice\" is a 2\\-D section from of a 3\\-D volume. One limitation of <samp>plotdmri3d</samp> is that it can only represent slices directly taken from the raster scan arrangement of the volume (no oblique slices are allowed). We can define an axial slice by fixing a constant value of the third index:\n"
   ]
  },
  {
   "cell_type": "code",
   "execution_count": null,
   "metadata": {},
   "outputs": [],
   "source": [
    "[szI,szJ,szK] = size(mask); % The field of view\n",
    "i1 = [1,szI]; % All the FOV for the 1st index\n",
    "j1 = [1,szJ]; % All the FOV for the 2nd index\n",
    "k1 = [round(szK/2),round(szK/2)]; % Just the central slice"
   ]
  },
  {
   "cell_type": "markdown",
   "metadata": {},
   "source": [
    "\n",
    "A sagittal slice means the first index is kept constant:\n"
   ]
  },
  {
   "cell_type": "code",
   "execution_count": null,
   "metadata": {},
   "outputs": [],
   "source": [
    "i2 = [round(szI/2),round(szI/2)];\n",
    "j2 = [1,szJ];\n",
    "k2 = [1,szK];"
   ]
  },
  {
   "cell_type": "markdown",
   "metadata": {},
   "source": [
    "\n",
    "A coronal slice means the second index is kept constant:\n"
   ]
  },
  {
   "cell_type": "code",
   "execution_count": null,
   "metadata": {},
   "outputs": [],
   "source": [
    "i3 = [1,szI];\n",
    "j3 = [round(szJ/2),round(szJ/2)];\n",
    "k3 = [1,szK];"
   ]
  },
  {
   "cell_type": "markdown",
   "metadata": {},
   "source": [
    "\n",
    "As you can see, slices are defined as four \"window corners\" plus a singleton dimension. The function <samp>plotdmri3d</samp> is primarily meant to represent orientation information, so that its basic input is a SH volume. But, what if I am only interested in DTI, so I don't have any SH volume? Well, good news is that you can easily translate a DTI volume to a SH\\-compatible volume just like:\n"
   ]
  },
  {
   "cell_type": "code",
   "execution_count": null,
   "metadata": {},
   "outputs": [],
   "source": [
    "dtiSH = hot2sh( dti, 'mask', mask );"
   ]
  },
  {
   "cell_type": "markdown",
   "metadata": {},
   "source": [
    "\n",
    "And now we are ready to plot the slices:\n"
   ]
  },
  {
   "cell_type": "code",
   "execution_count": null,
   "metadata": {},
   "outputs": [],
   "source": [
    "close(figure(1));\n",
    "hf1 = figure(1);\n",
    "set(hf1,'Position',[1,1,800,800]);\n",
    "% Get the current axes of the newly created figure:\n",
    "ha = axes(hf1);\n",
    "% The sagittal slice. At the very least, we need to pass the SH volume and\n",
    "% the variables describing the slice. We will use the reference dtiSH\n",
    "% volume also as the image to plot the background. For the axial slice we\n",
    "% will plot the FA\n",
    "plotdmri3d( dtiSH, i1, j1, k1, ...\n",
    "    'mask', mask, ... % This makes non-masked voxels transparent\n",
    "    'origin', ijk2xyz(1:3,4), ... % The anatomical (rea-world units) origin\n",
    "    'direction', ijk2xyz(1:3,1:3), ... % The real-worl orientation\n",
    "    'space', 'RAS', ... % Anatomical space\n",
    "    'ha', ha, ... % Don't forget to tell the function where to plot!!!\n",
    "    'glyphs', false, ... % Dont's show voxel-wise orientation glyphs\n",
    "    'bgimage', 'fa', ... % This slice will be an FA map\n",
    "    'bgalpha', 0.9 ... % Slice transparency\n",
    "    );\n",
    "% For the sagittal slice we will represent a volume \"manually computed\"\n",
    "% outside the function, for example Westin's \"planar coefficient\":\n",
    "[~,~,~,l1,l2,l3] = dti2spectrum( dti, 'mask', mask );\n",
    "cp = spectrum2scalar( l1, l2, l3, 'scalar', 'cp', 'mask', mask );\n",
    "fa = spectrum2scalar( l1, l2, l3, 'scalar', 'fa', 'mask', mask ); % To be used later on\n",
    "plotdmri3d( dtiSH, i2, j2, k2, ...\n",
    "    'mask', mask, ... % This makes non-masked voxels transparent\n",
    "    'origin', ijk2xyz(1:3,4), ... % The anatomical (rea-world units) origin\n",
    "    'direction', ijk2xyz(1:3,1:3), ... % The real-worl orientation\n",
    "    'space', 'RAS', ... % Anatomical space\n",
    "    'ha', ha, ... % Don't forget to tell the function where to plot!!!\n",
    "    'glyphs', false, ... % Dont's show voxel-wise orientation glyphs\n",
    "    'bgimage', cp, ... % This slice will be an CP map\n",
    "    'bgalpha', 0.9 ... % Slice transparency\n",
    "    );\n",
    "% And for the coronal slice we will represent a color-code\n",
    "plotdmri3d( dtiSH, i3, j3, k3, ...\n",
    "    'mask', mask, ... % This makes non-masked voxels transparent\n",
    "    'origin', ijk2xyz(1:3,4), ... % The anatomical (real-world units) origin\n",
    "    'direction', ijk2xyz(1:3,1:3), ... % The real-world orientation\n",
    "    'space', 'RAS', ... % Anatomical space\n",
    "    'ha', ha, ... % Don't forget to tell the function where to plot!!!\n",
    "    'glyphs', false, ... % Dont's show voxel-wise orientation glyphs\n",
    "    'bgimage', 'color', ... % This slice will be a color-code map\n",
    "    'bgalpha', 0.9 ... % Slice transparency\n",
    "    );\n",
    "% Scale the axis so that they represent real-world dimensions:\n",
    "axis('equal');\n",
    "% Rotate:\n",
    "view(30,45);\n",
    "% Allow manual rotation (drag the mouse):\n",
    "rotate3d('on');"
   ]
  },
  {
   "cell_type": "markdown",
   "metadata": {},
   "source": [
    "\n",
    "***QUIZ:***\n",
    "\n",
    "-  *What is the size of the matrix ijk2xyz? What does each part of the matrix represent?*\n",
    "-  *You can see two different \"bounding boxes\" in the picture, one in blue the other in black. Can you guess what each of these boxes represent?*\n",
    "## 2\\- Represent orientation glyphs\n",
    "\n",
    "In the  previous chapter we have mentioned that advanced diffusion representations are able to disentangle complex micro\\-structural arrangements such as fibers crossing, bending or kissing. However, this capability is by no means evident from the RTxP maps, which are otherwise qualitatively similar to any scalar map derived from DTI. Let's demonstrate that MiSFIT is actually able to resolve fiber crossings by representing the variable <samp>shodf</samp> previously loaded:\n"
   ]
  },
  {
   "cell_type": "code",
   "execution_count": null,
   "metadata": {},
   "outputs": [],
   "source": [
    "close(figure(2));\n",
    "hf2 = figure(2);\n",
    "set(hf2,'Position',[1,1,800,800]);\n",
    "% Get the current axes of the newly created figure:\n",
    "ha = axes(hf2);\n",
    "% We will show just an axial slice (hope you have a decent graphics card).\n",
    "% Half the slice will show just DTI-bsed color code:\n",
    "i1 = [1,floor(szI/2)];\n",
    "j1 = [1,szJ];\n",
    "k1 = [round(szK/2),round(szK/2)] + 5; % Move several pixels upwards\n",
    "% The other half will show a background with orientation glyphs overimposed\n",
    "% to the FA map:\n",
    "i2 = [floor(szI/2),szI];\n",
    "j2 = j1;\n",
    "k2 = k1; % Move several pixels upwards\n",
    "% The first half is the same as in the previous image:\n",
    "plotdmri3d( dtiSH, i1, j1, k1, ...\n",
    "    'mask', mask, ... % This makes non-masked voxels transparent\n",
    "    'origin', ijk2xyz(1:3,4), ... % The anatomical (rea-world units) origin\n",
    "    'direction', ijk2xyz(1:3,1:3), ... % The real-worl orientation\n",
    "    'space', 'RAS', ... % Anatomical space\n",
    "    'ha', ha, ... % Don't forget to tell the function where to plot!!!\n",
    "    'glyphs', false, ... % Dont's show voxel-wise orientation glyphs\n",
    "    'bgimage', 'color', ... % This slice will be a color-code map\n",
    "    'bgalpha', 0.8 ... % Slice transparency\n",
    "    );\n",
    "% The second half needs some more arguments. Besides, note that we are\n",
    "% using MiSFIT-computed shodf as the reference volume to be able to resolve\n",
    "% crossing fibers\n",
    "plotdmri3d( shodf, i2, j2, k2, ...\n",
    "    'mask', mask, ... % This makes non-masked voxels transparent\n",
    "    'origin', ijk2xyz(1:3,4), ... % The anatomical (rea-world units) origin\n",
    "    'direction', ijk2xyz(1:3,1:3), ... % The real-worl orientation\n",
    "    'space', 'RAS', ... % Anatomical space\n",
    "    'ha', ha, ... % Don't forget to tell the function where to plot!!!\n",
    "    'bgimage', 'fa', ... % Used only for the background\n",
    "    'bgsh', dtiSH, ... % Use the tensor representation for the background\n",
    "    'bgalpha', 0.8, ... % Background transparency\n",
    "    ... % THESE ARE THE NEW ARGUMENTS WE NEED:\n",
    "    'glyphs', true, ... % We DO WANT glyphs!\n",
    "    'glyphspc', [2;2;2], ... % Plot glyphs every two voxels at each direction\n",
    "    'glyphsc', 2, ... % Scale applied to all glyphs\n",
    "    'glyphscvar', 'ga' ... % Scale the glyphs depending on their anisotropy\n",
    "    );\n",
    "% Scale the axis so that they represent real-world dimensions:\n",
    "axis('equal');\n",
    "% Rotate:\n",
    "view(30,45);\n",
    "% Add some light effects to make things look cooler:\n",
    "light\n",
    "lighting(phong);\n",
    "% Allow manual rotation (drag the mouse):\n",
    "rotate3d('on');"
   ]
  },
  {
   "cell_type": "markdown",
   "metadata": {},
   "source": [
    "\n",
    "***QUIZ:***\n",
    "\n",
    "-  *The slice we have chosen contains a great part of the centrum semiovale, where many important fiber bundles are known to cross each other. If you have some expertise on neuroanatomy, you may try to identify some of them.*\n",
    "-   *One important property of Spherical Harmonics is that they draw progressive refinements of the spherical signal with their successive degrees. You can easily \"reduce\" the representation given by* *<samp>shodf</samp>* *by keeping just its first few coefficients. In particular, try to do the following operations and re\\-run the code substituting* *<samp>shodf</samp>* *with each resulting* *<samp>shodf_reduced</samp>**. What happens for L=2?*\n",
    "<pre>\n",
    "% This corresponds to SH up to order L=4:\n",
    "shodf_reduced = shodf(:,:,:,1:15);\n",
    "% This corresponds to SH up to order L=2:\n",
    "shodf_reduced = shodf(:,:,:,1:6);\n",
    "</pre>\n",
    "\n",
    "***QUIZ:***\n",
    "\n",
    "\n",
    "*Would you be able to draw a coronal slice with glyphs representing MiSFIT's ODFs?*\n",
    "\n",
    "## 3\\- Computing and representing tractographies\n",
    "\n",
    "The highest level front\\-end for the representation of diffusion MRI data is pobably tractography or fiber\\-tracking. With this technique, one starts with a set of \"seeds\" or fiducial locations within the field of view of the image and traces streamlines following the main diffusion directions at each visited location until a stop criterion is met (this explanation is a heavy over\\-simplification of the literature on fiber\\-tracking, but it will serve for our purposes). To know what we are talking about, let's check the \"labelmap\" we have loaded with the test data in this chapter, i.e. the volume <samp>labs</samp>. It is just a volume with the same size as the diffusion data that contains integer values tagging certain regions of interest we have manually delineated within the white matter (*Ctrl+ENTER*):\n"
   ]
  },
  {
   "cell_type": "code",
   "execution_count": null,
   "metadata": {},
   "outputs": [],
   "source": [
    "unique(labs)',\n",
    "close(figure(3));\n",
    "hf3 = figure(3);\n",
    "set(hf3,'Position',[1,1,900,600]);\n",
    "plotOverlaidLabelmap_demo1(labs,fa);"
   ]
  },
  {
   "cell_type": "markdown",
   "metadata": {},
   "source": [
    "\n",
    "So the regions of interest are placed in:\n",
    "\n",
    "-  Labels 1 (red) and 2 (green) are placed in the middle cerebellar peduncle, right and left hemispheres.\n",
    "-  Label 3 (blue) is approximately placed over the posterior cingulum.\n",
    "-  Label 4 (yellow) is approximately placed over the anterior cingulum.\n",
    "-  Label 5 (orange) is placed right in the middle of the corpus callosum.\n",
    "-  Labels 6 (magenta) and 7 (cyan) are placed in the uppermost part of the corticospinal tract.\n",
    "\n",
    "These are just labelmaps tagged in the voxel space. To feed the tractography algorithm, we need to convert them to actual real\\-world points with a function that takes a labelmap as an input and outputs acual seeds, hence its name is <samp>labelmap2seeds</samp>:\n"
   ]
  },
  {
   "cell_type": "code",
   "execution_count": null,
   "metadata": {},
   "outputs": [],
   "source": [
    "% The only mandatory input is the labelmap itself, but it is very likely\n",
    "% that we will have to use some of its options:\n",
    "seeds1 = labelmap2seeds( labs, ...\n",
    "    'label', 1, ... % Select the region we are interested in (MCP, right)\n",
    "    'nSeeds', 50, ... % How many seeds do we need?\n",
    "    ... % NOTE THIS PARAMETER IS CRUCIAL!!!:\n",
    "    'ijk2xyz', ijk2xyz ... % What is the actual spatial orientarion of the voxels?\n",
    "    );\n",
    "% Repeat for the other hemisphere:\n",
    "seeds2 = labelmap2seeds( labs, ...\n",
    "    'label', 2, ...\n",
    "    'nSeeds', 50, ...\n",
    "    'ijk2xyz', ijk2xyz );"
   ]
  },
  {
   "cell_type": "markdown",
   "metadata": {},
   "source": [
    "\n",
    "Now we need a function that takes diffusion MRI data and outputs a tractography. Since our tractography will be by now DTI\\-based, the function to use is called <samp>dti2tractography</samp>:\n"
   ]
  },
  {
   "cell_type": "code",
   "execution_count": null,
   "metadata": {},
   "outputs": [],
   "source": [
    "% The minimum required inputs are the DTI volume and\n",
    "% the seeding poits, but it is likely that you will\n",
    "% need to fix some of the optional parameters:\n",
    "paths1 = dti2tractography( dti, seeds1, ...\n",
    "    'mask', mask, ...\n",
    "    ... % THIS PARAMETER IS AGAIN CRUCIAL!!!:\n",
    "    'ijk2xyz', ijk2xyz );\n",
    "% Repeat for the other hemisphere:\n",
    "paths2 = dti2tractography( dti, seeds2, ...\n",
    "    'mask', mask, ...\n",
    "    ... % THIS PARAMETER IS AGAIN CRUCIAL!!!:\n",
    "    'ijk2xyz', ijk2xyz );"
   ]
  },
  {
   "cell_type": "markdown",
   "metadata": {},
   "source": [
    "\n",
    "You can check that the variables output by <samp>dti2tractography</samp> are so\\-called \"cell arrays\", i.e abstract vectors each of whose positions can be more or less anyhthing:\n"
   ]
  },
  {
   "cell_type": "code",
   "execution_count": null,
   "metadata": {},
   "outputs": [],
   "source": [
    "class(paths1),\n",
    "length(paths1),\n",
    "size(paths1{13}),\n",
    "size(paths1{71}),"
   ]
  },
  {
   "cell_type": "markdown",
   "metadata": {},
   "source": [
    "\n",
    "In our case, <samp>paths1</samp> has 100 entries because we have used 100 seeding points to generate it (we passed '<samp>nSeeds</samp>', 100 when we called <samp>labelmap2seeds</samp>). Each of these entries is a $3\\times N$ matrix, where the algorithm stacks the succesive <samp>x</samp>, <samp>y</samp> and <samp>z</samp> coordinates of the traced fibers (in real world coordinates). Hence, it suffices to use Matlab's plot3 command to draw these streamlines. But first, to give a little bit of context, we will show first axial, sagittal and coronal slices of the FA:\n"
   ]
  },
  {
   "cell_type": "code",
   "execution_count": null,
   "metadata": {},
   "outputs": [],
   "source": [
    "% Axial:\n",
    "i1 = [1,szI];\n",
    "j1 = [1,szJ];\n",
    "k1 = [round(szK/2),round(szK/2)];\n",
    "% Sagittal:\n",
    "i2 = [round(szI/2),round(szI/2)];\n",
    "j2 = [1,szJ];\n",
    "k2 = [1,szK];\n",
    "% Coronal:\n",
    "i3 = [1,szI];\n",
    "j3 = [round(szJ/2),round(szJ/2)];\n",
    "k3 = [1,szK];\n",
    "% Make the plots:\n",
    "close(figure(4));\n",
    "hf4 = figure(4);\n",
    "set(hf4,'Position',[1,1,800,800]);\n",
    "% Get the current axes of the newly created figure:\n",
    "ha = axes(hf4);\n",
    "for ax=1:3\n",
    "    ix = eval(sprintf('i%d',ax));\n",
    "    jx = eval(sprintf('j%d',ax));\n",
    "    kx = eval(sprintf('k%d',ax));\n",
    "    plotdmri3d( dtiSH, ix, jx, kx, ...\n",
    "        'mask', mask, ...\n",
    "        'origin', ijk2xyz(1:3,4), ...\n",
    "        'direction', ijk2xyz(1:3,1:3), ...\n",
    "        'space', 'RAS', ...\n",
    "        'ha', ha, ...\n",
    "        'glyphs', false, ...\n",
    "        'bgimage', 'fa', ...\n",
    "        'bgalpha', 0.8 ...\n",
    "        );\n",
    "end\n",
    "\n",
    "% And now we are ready to actually plot the streamlines:\n",
    "\n",
    "for n=1:length(paths1)\n",
    "    streamline = paths1{n}; % Retriebe an entry of the cell array\n",
    "    if(~isempty(streamline))\n",
    "        % Empty streamlines can appear if something goes wrong\n",
    "        plot3( ha, ... % Plot in the same previous axes\n",
    "            streamline(1,:), ... % x\n",
    "            streamline(2,:), ... % y\n",
    "            streamline(3,:), ... % z\n",
    "            'Color', [.5,.0,.0], ...\n",
    "            'LineWidth', 2 );\n",
    "    end\n",
    "end\n",
    "% Repeat for the other hemisphere:\n",
    "for n=1:length(paths2)\n",
    "    streamline = paths2{n}; % Retriebe an entry of the cell array\n",
    "    if(~isempty(streamline))\n",
    "        % Empty streamlines can appear if something goes wrong\n",
    "        plot3( ha, ... % Plot in the same previous axes\n",
    "            streamline(1,:), ... % x\n",
    "            streamline(2,:), ... % y\n",
    "            streamline(3,:), ... % z\n",
    "            'Color', [.0,.5,.0], ...\n",
    "            'LineWidth', 2 );\n",
    "    end\n",
    "end\n",
    "% Scale the axis so that they represent real-world dimensions:\n",
    "axis('equal');\n",
    "% Rotate:\n",
    "view(150,-45);\n",
    "% Add some light effects to make things look cooler:\n",
    "light\n",
    "lighting(phong);\n",
    "% Allow manual rotation (drag the mouse):\n",
    "rotate3d('on');\n",
    "drawnow;"
   ]
  },
  {
   "cell_type": "markdown",
   "metadata": {},
   "source": [
    "\n",
    "***QUIZ:***\n",
    "\n",
    "-  *Can you try to delineate the corpus callosum? (use label 5 of the labelmap) And the cingulum? (labels 3 and 4).*\n",
    "-   *Can you make the algorithm trace the streamlines further than it currently does?*  ***HINT:*** *check the '<samp>threshold</samp>* *' argument of the* *<samp>dti2tractography</samp>* *function.*\n",
    "<pre>\n",
    "help dti2tractography\n",
    "</pre>\n",
    "\n",
    "[Go back to index page](./tour_00index.ipynb)\n",
    "\n",
    "\n",
    "[Previous](./tour_05advanced.ipynb)\n"
   ]
  }
 ],
 "metadata": {
  "kernelspec": {
   "display_name": "Octave",
   "language": "octave",
   "name": "octave"
  },
  "language_info": {
   "file_extension": ".m",
   "help_links": [
    {
     "text": "GNU Octave",
     "url": "https://www.gnu.org/software/octave/support.html"
    },
    {
     "text": "Octave Kernel",
     "url": "https://github.com/Calysto/octave_kernel"
    },
    {
     "text": "MetaKernel Magics",
     "url": "https://metakernel.readthedocs.io/en/latest/source/README.html"
    }
   ],
   "mimetype": "text/x-octave",
   "name": "octave",
   "version": "10.2.0"
  }
 },
 "nbformat": 4,
 "nbformat_minor": 4
}

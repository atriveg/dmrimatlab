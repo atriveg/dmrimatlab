{
 "cells": [
  {
   "cell_type": "markdown",
   "metadata": {},
   "source": [
    "\n",
    "# <span style=\"color:rgb(213,80,0)\">A tour on the DMRIMatlab toolbox</span>\n",
    "\n",
    "### Antonio Tristán\\-Vega, Santiago Aja\\-Fernández, Guillem París, Tomasz Pieciak.\n",
    "## Summary\n",
    "\n",
    "Diffusion magnetic  resonance imaging (MRI) has gained much interest from the neuroimaging  community over the last two decades due to its ability to analyze in vivo structures within the white matter of the brain. The current trend in diffusion MRI analysis is the calculation of increasingly advanced quantitative metrics focused on subtle aspects of the diffusion and brain microstructure.\n",
    "\n",
    "\n",
    "This toolbox gathers many of the results attained by of the research in the field for the last 15 years, but also provides efficient implementations of several state\\-of\\-the\\-art techniques widely used by the community and often accepted as *de facto* standards. It is designed for Matlab(R) and GNU Octave, and aimed at the computational analysis of  diffusion MRI. It addresses basic concepts such as Diffusion Tensor  Imaging (DTI), but also advanced topics like High Angular Resolution  Diffusion Imaging (HARDI, including estimation and representation of  Orientation Distribution Functions\\-ODF), multi\\-shell samplings (MAP\\-MRI, DSI, Spherical Deconvolution, free\\-water elimination),  computational diffusion MRI, and fiber\\-tracking (DTI based, global geodesic distances\\-Finsler tractography). We have tested the library for Matlab versions starting R2015b, but we advice using a more recent version. It works also with GNU Octave with a similar computational performance (in case mex files are linked against the proper libraries).\n",
    "\n",
    "\n",
    "You can check most of the publications in which the toolbox is based here: [https://www.lpi.tel.uva.es/biblio/](https://www.lpi.tel.uva.es/biblio/).\n",
    "\n",
    "## Table of contents\n",
    "\n",
    "***BEFORE WE BEGIN:*** Make sure the current folder, where the scripts for the demo are located, are always accessible (Click anywhere in the code box and press *Ctrl+ENTER*  to run all the code in this section).\n"
   ]
  },
  {
   "cell_type": "code",
   "execution_count": null,
   "metadata": {},
   "outputs": [],
   "source": [
    "addpath(pwd);"
   ]
  },
  {
   "cell_type": "markdown",
   "metadata": {},
   "source": [
    "\n",
    "1.  [A brief introduction to the DMRIMatlab toolbox](./tour_01intro.ipynb)\n",
    "2. [A brief overview of MRI\\-related data sets](./tour_02data.ipynb)\n",
    "3. [Basic Diffusion Tensor Imaging with DMRIMatlab](./tour_03dtmri.ipynb)\n",
    "4. [Advanced Diffusion Tensor Imaging: Free\\-Water Volume Fraction Elimination](./tour_04fwvf.ipynb)\n",
    "5. [Advanced modeling of diffusion MRI: non Gaussian signal representations](./tour_05advanced.ipynb)\n",
    "6. [Representation of diffusion MRI data: color coding, glyphs, tractography and beyond](./tour_06representations.ipynb)\n"
   ]
  }
 ],
 "metadata": {
  "kernelspec": {
   "display_name": "Octave",
   "language": "octave",
   "name": "octave"
  },
  "language_info": {
   "file_extension": ".m",
   "help_links": [
    {
     "text": "GNU Octave",
     "url": "https://www.gnu.org/software/octave/support.html"
    },
    {
     "text": "Octave Kernel",
     "url": "https://github.com/Calysto/octave_kernel"
    },
    {
     "text": "MetaKernel Magics",
     "url": "https://metakernel.readthedocs.io/en/latest/source/README.html"
    }
   ],
   "mimetype": "text/x-octave",
   "name": "octave",
   "version": "10.2.0"
  }
 },
 "nbformat": 4,
 "nbformat_minor": 4
}

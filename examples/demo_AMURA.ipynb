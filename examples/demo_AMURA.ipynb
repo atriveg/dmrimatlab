{
 "cells": [
  {
   "cell_type": "markdown",
   "metadata": {},
   "source": [
    "\n",
    "# <span style=\"color:rgb(213,80,0)\">Single\\-shell acquisitions and AMURA</span>\n",
    "\n",
    "This demo illustrates the basic use of the AMURA module, aimed at the analysis of single\\-shell, HARDI like dMRI data sets.\n"
   ]
  },
  {
   "cell_type": "code",
   "execution_count": null,
   "metadata": {},
   "outputs": [],
   "source": [
    "setup__DMRIMatlab_toolbox('useparallel',true); % Will be ingnored if you don't have a licensed copy of the parallel toolbox\n",
    "clear;\n",
    "close('all');"
   ]
  },
  {
   "cell_type": "markdown",
   "metadata": {},
   "source": [
    "## Load data\n",
    "\n",
    "Load first your own sutiable multi\\-shell dMRI data set, which should include the attenuation signal (DWI over the averaged baseline), the mask to remove the background, the gradients table, and the b\\-values for each gradient direction:\n"
   ]
  },
  {
   "cell_type": "code",
   "execution_count": null,
   "metadata": {},
   "outputs": [],
   "source": [
    "tic;\n",
    "load test_data.mat;\n",
    "T=toc; % This is always a large piece of data\n",
    "fprintf(1,'It took %f seconds to load data\\n',T);\n",
    "whos -file test_data.mat; % Check the variables loaded, their kinds, and their sizes\n",
    "bshell = 3000;\n",
    "pb = ( (bi<bshell+100) & (bi>bshell-100) ); % Keep just the selected shell\n",
    "atti = atti(:,:,:,pb);\n",
    "bi   = bi(pb,1);\n",
    "gi   = gi(pb,:);"
   ]
  },
  {
   "cell_type": "markdown",
   "metadata": {},
   "source": [
    "## Compute standard measures... And more"
   ]
  },
  {
   "cell_type": "code",
   "execution_count": null,
   "metadata": {},
   "outputs": [],
   "source": [
    "rtop = atti2artop( atti, gi, bi, ...\n",
    "    'clean', 90, ...\n",
    "    'lambda', 0.001, 'tl', 10*eps, 'tu', 1-10*eps, ...\n",
    "    'mask', mask, 'tau', 40.0e-3);\n",
    "rtpp = atti2artpp( atti, gi, bi, ...\n",
    "    'clean', 50, 'tensor', true, ...\n",
    "    'lambda', 0.001, 'tl', 10*eps, 'tu', 1-10*eps, ...\n",
    "    'mask', mask, 'tau', 40.0e-3);\n",
    "rtap = atti2artap( atti, gi, bi, ...\n",
    "    'clean', 50, 'tensor', true, ...\n",
    "    'lambda', 0.001, 'tl', 10*eps, 'tu', 1-10*eps, ...\n",
    "    'mask', mask, 'tau', 40.0e-3);\n",
    "qmsd = atti2amura( atti, gi, bi, ...\n",
    "    'type', 'qmsd', 'clean', 90, ...  % Full moments require more agressive outlier rejection\n",
    "    'L', 8, 'lambda', 0.001, 'tl', 10*eps, 'tu', 1-10*eps, ...\n",
    "    'mask', mask, 'tau', 40.0e-3);\n",
    "msd = atti2amsd( atti, gi, bi, ...\n",
    "    'L', 8, 'lambda', 0.001, 'tl', 10*eps, 'tu', 1-10*eps, ...\n",
    "    'mask', mask, 'tau', 40.0e-3);\n",
    "mua = atti2amura( atti, gi, bi, ...\n",
    "    'type', 'a', 'nu', 1/2, 'clean', 50, ...\n",
    "    'L', 8, 'lambda', 0.001, 'tl', 10*eps, 'tu', 1-10*eps, ...\n",
    "    'mask', mask, 'tau', 40.0e-3);\n",
    "pa = atti2apa( atti, gi, bi, ...\n",
    "    'L', 8, 'lambda', 0.001, 'tl', 10*eps, 'tu', 1-10*eps, ...\n",
    "    'mask', mask, 'epsilon', 0.4);\n",
    "ng = atti2ang( atti, gi, bi, ...\n",
    "    'L', 8, 'lambda', 0.001, 'tl', 10*eps, 'tu', 1-10*eps, ...\n",
    "    'mask', mask );"
   ]
  },
  {
   "cell_type": "markdown",
   "metadata": {},
   "source": [
    "## Prepare the plots"
   ]
  },
  {
   "cell_type": "code",
   "execution_count": null,
   "metadata": {},
   "outputs": [],
   "source": [
    "mapType = 'high'; % Changing the colormap will trigger the entire demo\n",
    "switch(mapType)\n",
    "    case 'high'\n",
    "        MAP = psychedelia(512);\n",
    "    case 'gray'\n",
    "        MAP = gray(512); % B/W colormap\n",
    "    case 'default'\n",
    "        MAP = parula(512);\n",
    "end"
   ]
  },
  {
   "cell_type": "markdown",
   "metadata": {},
   "source": [
    "## Plot the results"
   ]
  },
  {
   "cell_type": "code",
   "execution_count": null,
   "metadata": {},
   "outputs": [],
   "source": [
    "sl = [4,9,14];    % Slices to plot\n",
    "close(figure(1)); % Close previous figures if needed\n",
    "hf = figure(1);\n",
    "set(hf,'Name','AMURA moments with single-shells','Position',[10,10,1920,650]);\n",
    "R=1; C=8;\n",
    "r=1; c=1; subplot('Position',[(c-1)/C,(r-1)/R,1/C,1/R]);\n",
    "imagesc([rtop(:,:,sl(1))';rtop(:,:,sl(2))';rtop(:,:, ...\n",
    "    sl(3))';]); colormap(MAP); colorbar; title('RTOP');\n",
    "axis('equal');axis('off');axis('tight');\n",
    "r=1; c=2; subplot('Position',[(c-1)/C,(r-1)/R,1/C,1/R]);\n",
    "imagesc([rtpp(:,:,sl(1))';rtpp(:,:,sl(2))';rtpp(:,:, ...\n",
    "    sl(3))';]); colormap(MAP); colorbar; title('RTPP');\n",
    "axis('equal');axis('off');axis('tight');\n",
    "r=1; c=3; subplot('Position',[(c-1)/C,(r-1)/R,1/C,1/R]);\n",
    "imagesc([rtap(:,:,sl(1))';rtap(:,:,sl(2))';rtap(:,:, ...\n",
    "    sl(3))';]); colormap(MAP); colorbar; title('RTAP');\n",
    "axis('equal');axis('off');axis('tight');\n",
    "r=1; c=4; subplot('Position',[(c-1)/C,(r-1)/R,1/C,1/R]);\n",
    "imagesc([qmsd(:,:,sl(1))';qmsd(:,:,sl(2))';qmsd(:,:, ...\n",
    "    sl(3))';]); colormap(MAP); colorbar; title('QMSD');\n",
    "axis('equal');axis('off');axis('tight');\n",
    "r=1; c=5; subplot('Position',[(c-1)/C,(r-1)/R,1/C,1/R]);\n",
    "imagesc([msd(:,:,sl(1))';msd(:,:,sl(2))';msd(:,:, ...\n",
    "    sl(3))';],[0,1e-3]); colormap(MAP); colorbar; title('MSD');\n",
    "axis('equal');axis('off');axis('tight');\n",
    "r=1; c=6; subplot('Position',[(c-1)/C,(r-1)/R,1/C,1/R]);\n",
    "imagesc([mua(:,:,sl(1))';mua(:,:,sl(2))';mua(:,:, ...\n",
    "    sl(3))';]); colormap(MAP); colorbar; title('\\Upsilon_a^{1/2}');\n",
    "axis('equal');axis('off');axis('tight');\n",
    "r=1; c=7; subplot('Position',[(c-1)/C,(r-1)/R,1/C,1/R]);\n",
    "imagesc([pa(:,:,sl(1))';pa(:,:,sl(2))';pa(:,:, ...\n",
    "    sl(3))';]); colormap(MAP); colorbar; title('PA');\n",
    "axis('equal');axis('off');axis('tight');\n",
    "r=1; c=8; subplot('Position',[(c-1)/C,(r-1)/R,1/C,1/R]);\n",
    "imagesc([ng(:,:,sl(1))';ng(:,:,sl(2))';ng(:,:, ...\n",
    "    sl(3))';]); colormap(MAP); colorbar; title('NG');\n",
    "axis('equal');axis('off');axis('tight');"
   ]
  }
 ],
 "metadata": {
  "kernelspec": {
   "display_name": "Octave",
   "language": "octave",
   "name": "octave"
  },
  "language_info": {
   "file_extension": ".m",
   "help_links": [
    {
     "text": "GNU Octave",
     "url": "https://www.gnu.org/software/octave/support.html"
    },
    {
     "text": "Octave Kernel",
     "url": "https://github.com/Calysto/octave_kernel"
    },
    {
     "text": "MetaKernel Magics",
     "url": "https://metakernel.readthedocs.io/en/latest/source/README.html"
    }
   ],
   "mimetype": "text/x-octave",
   "name": "octave",
   "version": "10.2.0"
  }
 },
 "nbformat": 4,
 "nbformat_minor": 4
}

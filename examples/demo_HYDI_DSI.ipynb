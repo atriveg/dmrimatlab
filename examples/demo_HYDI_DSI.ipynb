{
 "cells": [
  {
   "cell_type": "markdown",
   "metadata": {},
   "source": [
    "\n",
    "# <span style=\"color:rgb(213,80,0)\">Multi\\-shell acquisitions and HYDI without q\\-space interpolation</span>\n",
    "\n",
    "This demo illustrates the basic use of the HYDI module, aimed at the model\\-free analysis of multi\\-shell data sets.\n"
   ]
  },
  {
   "cell_type": "code",
   "execution_count": 1,
   "metadata": {
    "scrolled": true
   },
   "outputs": [
    {
     "name": "stdout",
     "output_type": "stream",
     "text": [
      "\u001b[?2004l\n",
      "\n",
      "\n",
      "\n",
      "\u001b[?2004h\n",
      "\u001b[?2004l\n",
      "\n",
      "\n",
      "\n",
      "\u001b[?2004h\n",
      "\u001b[?2004l\n",
      "\n",
      "\n",
      "\n",
      "\u001b[?2004h\n",
      "\u001b[?2004l\n",
      "\u001b[?2004h\u001b[?2004l\n",
      "You're running version 1.0 of the toolbox under octave 10.20\n",
      "Using graphics toolkit: qt\n",
      "\u001b[?2004h\u001b[?2004l\n",
      "\u001b[?2004h\u001b[?2004l\n",
      "\u001b[?2004h\u001b[?2004l\n",
      "\u001b[?2004h\u001b[?2004l\n",
      "\u001b[?2004h"
     ]
    }
   ],
   "source": [
    "addpath('/home/atriveg/ETSITCloud/Code/dmrimatlab');\n",
    "setup__DMRIMatlab_toolbox('useparallel',false); % Will be ingnored if you don't have a licensed copy of the parallel toolbox\n",
    "clear;\n",
    "close('all');\n",
    "lambda = Inf; % use generalized cross validation\n",
    "Rth = 0.05;"
   ]
  },
  {
   "cell_type": "markdown",
   "metadata": {},
   "source": [
    "## Load data\n",
    "\n",
    "Load first your own sutiable multi\\-shell dMRI data set, which should include the attenuation signal (DWI over the averaged baseline), the mask to remove the background, the gradients table, and the b\\-values for each gradient direction:\n"
   ]
  },
  {
   "cell_type": "code",
   "execution_count": 2,
   "metadata": {},
   "outputs": [
    {
     "name": "stdout",
     "output_type": "stream",
     "text": [
      "\u001b[?2004l\n",
      "\u001b[?2004h\u001b[?2004l\n",
      "warning: load: '/home/atriveg/ETSITCloud/Code/dmrimatlab/data/test_data.mat' found by searching load path\n",
      "\u001b[?2004h\u001b[?2004l\n",
      "\u001b[?2004h\u001b[?2004l\n",
      "It took 0.764412 seconds to load data\n",
      "\u001b[?2004h\u001b[?2004l\n",
      "warning: load: '/home/atriveg/ETSITCloud/Code/dmrimatlab/data/test_data.mat' found by searching load path\n",
      "Variables in the file test_data.mat:\n",
      "\n",
      "variables in scope: test_data.mat\n",
      "\n",
      "  Attr   Name        Size                     Bytes  Class\n",
      "  ====   ====        ====                     =====  ===== \n",
      "         atti      101x110x17x256         193402880  single\n",
      "         bi        256x1                       2048  double\n",
      "         gi        256x3                       6144  double\n",
      "         mask      101x110x17                188870  logical\n",
      "\n",
      "Total is 48540614 elements using 193599942 bytes\n",
      "\n",
      "\u001b[?2004h"
     ]
    }
   ],
   "source": [
    "tic;\n",
    "load test_data.mat;\n",
    "T=toc; % This is always a large piece of data\n",
    "fprintf(1,'It took %f seconds to load data\\n',T);\n",
    "whos -file test_data.mat; % Check the variables loaded, their kinds, and their sizes"
   ]
  },
  {
   "cell_type": "markdown",
   "metadata": {},
   "source": [
    "## Use only a few slices to accelerate the demo"
   ]
  },
  {
   "cell_type": "code",
   "execution_count": 3,
   "metadata": {},
   "outputs": [
    {
     "name": "stdout",
     "output_type": "stream",
     "text": [
      "\u001b[?2004l\n",
      "\u001b[?2004h\u001b[?2004l\n",
      "\u001b[?2004h\u001b[?2004l\n",
      "\u001b[?2004h\u001b[?2004l\n",
      "\u001b[?2004h"
     ]
    }
   ],
   "source": [
    "slc = [4,9,14];\n",
    "atti = atti(:,:,slc,:);\n",
    "mask = mask(:,:,slc);\n",
    "slc = [1,2,3];"
   ]
  },
  {
   "cell_type": "markdown",
   "metadata": {},
   "source": [
    "## Compute the EAP at a Cartesian lattice"
   ]
  },
  {
   "cell_type": "code",
   "execution_count": null,
   "metadata": {},
   "outputs": [
    {
     "name": "stdout",
     "output_type": "stream",
     "text": [
      "\u001b[?2004l\n",
      "\u001b[?2004h\u001b[?2004l\n",
      "\u001b[?2004h\u001b[?2004l\n",
      "\u001b[?2004h\u001b[?2004l\n",
      "\u001b[?2004h\u001b[?2004l\n",
      "\u001b[?2004h\u001b[?2004l\n",
      "\u001b[?2004h\u001b[?2004l\n",
      "\u001b[?2004h\u001b[?2004l\n",
      "\u001b[?2004h\u001b[?2004l\n",
      "\u001b[?2004h\u001b[?2004l\n",
      "\u001b[?2004h\u001b[?2004l"
     ]
    }
   ],
   "source": [
    "tic;\n",
    "[eap,dti,lattice,Qx,Qy,Qz,res,lapl,lopt] = atti2hydidsi( atti, gi, bi,'mask', mask, ... % Output dti is ignored in this case\n",
    "    'tl', 1.0e-7, 'tu', 1-1.0e-7, ... % To avoid outliers\n",
    "    'lambda', lambda, ... % Laplacian energy penalty. IMPORTANT PARAMETER!\n",
    "    'tau', 36.5e-3, 'Rth', Rth, ... % The tails are only igored beyond the point where the signal falls to 1% of its value at the origin IMPORTANT PARAMTER!\n",
    "    'lattice', [], ... % Let the function decide\n",
    "    'const', true, ... % Actually solve a QP problem to get a positive, unit-mass EAP\n",
    "    'verbose', true, ... % Plot a fancy progress bar\n",
    "    'usemex', true, ...\n",
    "    'maxthreads', 16, ...\n",
    "    'miters', 10000, 'otol', 1.0e-6, 'stol', 1.0e-6, 'ctol', 1.0e-8 ); % These are the quadprog options\n",
    "fprintf(1,'It took %1.3f seconds to estimate the EAP\\n',toc); % This will be a good while!"
   ]
  },
  {
   "cell_type": "markdown",
   "metadata": {},
   "source": [
    "## Compute the standard measures"
   ]
  },
  {
   "cell_type": "code",
   "execution_count": null,
   "metadata": {},
   "outputs": [],
   "source": [
    "rtop = hydidsi2index(eap, lattice, Qx, Qy, Qz, 'mask', mask, 'kind', 'rtop');\n",
    "rtpp = hydidsi2index(eap, lattice, Qx, Qy, Qz, 'mask', mask, 'kind', 'rtpp');\n",
    "rtap = hydidsi2index(eap, lattice, Qx, Qy, Qz, 'mask', mask, 'kind', 'rtap');\n",
    "msd  = hydidsi2index(eap, lattice, Qx, Qy, Qz, 'mask', mask, 'kind', 'msd');\n",
    "qmsd = hydidsi2index(eap, lattice, Qx, Qy, Qz, 'mask', mask, 'kind', 'qmsd');\n",
    "mass = hydidsi2index(eap, lattice, Qx, Qy, Qz, 'mask', mask, 'kind', 'mass');\n",
    "[~,~,~,l3,l2,l1] = dti2spectrum( dti, 'mask', mask );\n",
    "ng   = hydidsi2ng( eap, lattice, Qx, Qy, Qz, l1, l2, l3, 36.5e-3, 'mask', mask );"
   ]
  },
  {
   "cell_type": "markdown",
   "metadata": {},
   "source": [
    "## Prepare the plots"
   ]
  },
  {
   "cell_type": "code",
   "execution_count": null,
   "metadata": {},
   "outputs": [],
   "source": [
    "mapType = 'gray'; % Changing the colormap will trigger the entire demo\n",
    "switch(mapType)\n",
    "    case 'high'\n",
    "        MAP = psychedelia(512);\n",
    "    case 'gray'\n",
    "        MAP = gray(512); % B/W colormap\n",
    "    case 'default'\n",
    "        MAP = parula(512);\n",
    "end"
   ]
  },
  {
   "cell_type": "markdown",
   "metadata": {},
   "source": [
    "## Plot the results"
   ]
  },
  {
   "cell_type": "code",
   "execution_count": null,
   "metadata": {},
   "outputs": [],
   "source": [
    "close(figure(1)); % Close previous figures if needed\n",
    "hf = figure(1);\n",
    "set(hf,'Name','HYDI indices from multi-shells','Position',[10,10,2400,680]);\n",
    "R=1; C=10;\n",
    "r=1; c=1; subplot('Position',[(c-1)/C,(r-1)/R,1/C,1/R]);\n",
    "imshow([rtop(:,:,slc(1))';rtop(:,:,slc(2))';rtop(:,:, ...\n",
    "    slc(3))'],[0,1.0e6]); colormap(MAP); colorbar; title('RTOP');\n",
    "axis('equal');axis('off');axis('tight');\n",
    "r=1; c=2; subplot('Position',[(c-1)/C,(r-1)/R,1/C,1/R]);\n",
    "imshow([rtpp(:,:,slc(1))';rtpp(:,:,slc(2))';rtpp(:,:, ...\n",
    "    slc(3))'],[20,80]); colormap(MAP); colorbar; title('RTPP');\n",
    "axis('equal');axis('off');axis('tight');\n",
    "r=1; c=3; subplot('Position',[(c-1)/C,(r-1)/R,1/C,1/R]);\n",
    "imshow([rtap(:,:,slc(1))';rtap(:,:,slc(2))';rtap(:,:, ...\n",
    "    slc(3))'],[0,2e4]); colormap(MAP); colorbar; title('RTAP');\n",
    "axis('equal');axis('off');axis('tight');\n",
    "r=1; c=4; subplot('Position',[(c-1)/C,(r-1)/R,1/C,1/R]);\n",
    "imshow([msd(:,:,slc(1))';msd(:,:,slc(2))';msd(:,:, ...\n",
    "    slc(3))'],[1.0e-4,5.0e-4]); colormap(MAP); colorbar; title('MSD');\n",
    "axis('equal');axis('off');axis('tight');\n",
    "r=1; c=5; subplot('Position',[(c-1)/C,(r-1)/R,1/C,1/R]);\n",
    "imshow([qmsd(:,:,slc(1))';qmsd(:,:,slc(2))';qmsd(:,:, ...\n",
    "    slc(3))'],[0,3e9]); colormap(MAP); colorbar; title('qMSD');\n",
    "axis('equal');axis('off');axis('tight');\n",
    "r=1; c=6; subplot('Position',[(c-1)/C,(r-1)/R,1/C,1/R]);\n",
    "imshow([mass(:,:,slc(1))';mass(:,:,slc(2))';mass(:,:, ...\n",
    "    slc(3))'],[0,2]); colormap(MAP); colorbar; title('MASS');\n",
    "axis('equal');axis('off');axis('tight');\n",
    "r=1; c=7; subplot('Position',[(c-1)/C,(r-1)/R,1/C,1/R]);\n",
    "imshow([ng(:,:,slc(1))';ng(:,:,slc(2))';ng(:,:, ...\n",
    "    slc(3))'],[0,1]); colormap(MAP); colorbar; title('NG');\n",
    "axis('equal');axis('off');axis('tight');\n",
    "r=1; c=8; subplot('Position',[(c-1)/C,(r-1)/R,1/C,1/R]);\n",
    "imshow([res(:,:,slc(1))';res(:,:,slc(2))';res(:,:, ...\n",
    "    slc(3))'],[0,10]); colormap(MAP); colorbar; title('Residual');\n",
    "r=1; c=9; subplot('Position',[(c-1)/C,(r-1)/R,1/C,1/R]);\n",
    "imshow([lapl(:,:,slc(1))';lapl(:,:,slc(2))';lapl(:,:, ...\n",
    "    slc(3))'],[3,30]); colormap(MAP); colorbar; title('Lapl. energ.');\n",
    "r=1; c=10; subplot('Position',[(c-1)/C,(r-1)/R,1/C,1/R]);\n",
    "imshow([log10(lopt(:,:,slc(1))');log10(lopt(:,:,slc(2))');log10(lopt(:,:, ...\n",
    "    slc(3))')],[-4,0]); colormap(MAP); colorbar; title('\\lambda');\n",
    "axis('equal');axis('off');axis('tight');"
   ]
  },
  {
   "cell_type": "markdown",
   "metadata": {},
   "source": [
    "## DWI reconstruction (and comparison)"
   ]
  },
  {
   "cell_type": "code",
   "execution_count": null,
   "metadata": {},
   "outputs": [],
   "source": [
    "tic;\n",
    "atti2 = hydidsi2atti( eap, dti, lattice, Qx, Qy, Qz, gi, bi, 'mask', mask, 'tau', 36.5e-3 );\n",
    "fprintf(1,'It took %1.3f seconds to predict the DWI signal\\n',toc);\n",
    "channels = [13,51,109,121,182,213,247];\n",
    "close(figure(2)); % Close previous figures if needed\n",
    "hf = figure(2);\n",
    "set(hf,'Name','Original DWIs vs. reconstructed DWIs','Position',[10,10,1680,460]);\n",
    "R=1; C=7;\n",
    "% --\n",
    "r=1; c=1; ch = channels(c);\n",
    "subplot('Position',[(c-1)/C,(r-1)/R,1/C,1/R]);\n",
    "imshow([(double(mask(:,:,slc(1))).*atti(:,:,slc(1),ch))';atti2(:,:,slc(1),ch)'],[0,1.0]);\n",
    "colormap(gray); colorbar;\n",
    "axis('equal');axis('off');axis('tight');\n",
    "% --\n",
    "r=1; c=2; ch = channels(c);\n",
    "subplot('Position',[(c-1)/C,(r-1)/R,1/C,1/R]);\n",
    "imshow([(double(mask(:,:,slc(1))).*atti(:,:,slc(1),ch))';atti2(:,:,slc(1),ch)'],[0,1.0]);\n",
    "colormap(gray); colorbar;\n",
    "axis('equal');axis('off');axis('tight');\n",
    "% --\n",
    "r=1; c=3; ch = channels(c);\n",
    "subplot('Position',[(c-1)/C,(r-1)/R,1/C,1/R]);\n",
    "imshow([(double(mask(:,:,slc(1))).*atti(:,:,slc(1),ch))';atti2(:,:,slc(1),ch)'],[0,1.0]);\n",
    "colormap(gray); colorbar;\n",
    "axis('equal');axis('off');axis('tight');\n",
    "% --\n",
    "r=1; c=4; ch = channels(c);\n",
    "subplot('Position',[(c-1)/C,(r-1)/R,1/C,1/R]);\n",
    "imshow([(double(mask(:,:,slc(1))).*atti(:,:,slc(1),ch))';atti2(:,:,slc(1),ch)'],[0,1.0]);\n",
    "colormap(gray); colorbar;\n",
    "axis('equal');axis('off');axis('tight');\n",
    "% --\n",
    "r=1; c=5; ch = channels(c);\n",
    "subplot('Position',[(c-1)/C,(r-1)/R,1/C,1/R]);\n",
    "imshow([(double(mask(:,:,slc(1))).*atti(:,:,slc(1),ch))';atti2(:,:,slc(1),ch)'],[0,1.0]);\n",
    "colormap(gray); colorbar;\n",
    "axis('equal');axis('off');axis('tight');\n",
    "% --\n",
    "r=1; c=6; ch = channels(c);\n",
    "subplot('Position',[(c-1)/C,(r-1)/R,1/C,1/R]);\n",
    "imshow([(double(mask(:,:,slc(1))).*atti(:,:,slc(1),ch))';atti2(:,:,slc(1),ch)'],[0,1.0]);\n",
    "colormap(gray); colorbar;\n",
    "axis('equal');axis('off');axis('tight');\n",
    "% --\n",
    "r=1; c=7; ch = channels(c);\n",
    "subplot('Position',[(c-1)/C,(r-1)/R,1/C,1/R]);\n",
    "imshow([(double(mask(:,:,slc(1))).*atti(:,:,slc(1),ch))';atti2(:,:,slc(1),ch)'],[0,1.0]);\n",
    "colormap(gray); colorbar;\n",
    "axis('equal');axis('off');axis('tight');\n",
    "% --"
   ]
  },
  {
   "cell_type": "markdown",
   "metadata": {},
   "source": [
    "## Compute the ODFs"
   ]
  },
  {
   "cell_type": "code",
   "execution_count": null,
   "metadata": {},
   "outputs": [],
   "source": [
    "tic;\n",
    "sh = hydidsi2shodf( eap, dti, Qx, Qy, Qz, lattice, ...\n",
    "    'L', 8, 'ADC0', 3.0e-3, 'mask', mask, 'rescale', false );\n",
    "fprintf(1,'It took %1.4f seconds to compute the ODFs\\n',toc);\n",
    "% A simple sanity check...\n",
    "close(figure(2)); % Close previous figures if needed\n",
    "hf = figure(2);\n",
    "set(hf,'Name','Integral of the ODF over the unit sphere','Position',[10,10,2800,1800]);\n",
    "mass = sh(:,:,:,1)*sqrt(4*pi);\n",
    "imshow([mass(:,:,slc(1))',mass(:,:,slc(2))',mass(:,:,slc(3))'],[]); colormap(MAP); colorbar; title('Mass');"
   ]
  },
  {
   "cell_type": "markdown",
   "metadata": {},
   "source": [
    "## Prepare ODFs plots"
   ]
  },
  {
   "cell_type": "code",
   "execution_count": null,
   "metadata": {},
   "outputs": [],
   "source": [
    "FA = sqrt(sum(sh(:,:,:,2:6).*sh(:,:,:,2:6),4)./sum(sh(:,:,:,1:6).*sh(:,:,:,1:6),4));\n",
    "FATH = 0.2;"
   ]
  },
  {
   "cell_type": "markdown",
   "metadata": {},
   "source": [
    "## Represent the field of ODFs"
   ]
  },
  {
   "cell_type": "code",
   "execution_count": null,
   "metadata": {},
   "outputs": [],
   "source": [
    "\n",
    "close(figure(3)); % Close previous figures if necessary\n",
    "hf  = figure(3);\n",
    "set(hf,'Name','ODFs field','Position',[10,10,1400,750],'renderer','Painters');\n",
    "%---------------------------------------------------------------------------------------------------\n",
    "contrast = [];\n",
    "%---------------------------------------------------------------------------------------------------\n",
    "ha1 = axes('Parent',hf);\n",
    "set(ha1,'OuterPosition',[-0.02,-0.03,0.25,0.5]);\n",
    "sl = 3; mx = 53; % Select the piece of data to plot with our cool plotdmri3d\n",
    "plotdmri3d(sh,[1,mx],[1,110],[sl,sl],'bgimage', 'color', 'bgsh', sh, 'ha', ...\n",
    "    ha1, 'bgalpha', 1, 'mask', mask, 'bbox', false, 'glyphs', false, 'origin', ...\n",
    "    [0;0;0],'direction',eye(3),'space','LPS','mframe',eye(3) ); % color-by-orientation half the slice\n",
    "plotdmri3d(sh,[mx,101],[1,110],[sl,sl],'bgimage', 'fa', 'bgsh', sh, 'ha', ...\n",
    "    ha1,'bgalpha', 0.9, 'mask', mask, 'bbox', false, 'glyphs', false, 'origin', ...\n",
    "    [0;0;0],'direction',eye(3),'space','LPS','mframe',eye(3)  ); % FA image for the other half of the slice\n",
    "plotdmri3d(sh,[mx+2,mx+30],[45,65],[sl,sl],'ha',ha1, 'bgimage', 'fa', 'bgsh', ...\n",
    "    sh, 'bgalpha', 0, 'mask', mask & (FA>FATH), 'bbox', false, 'glyphs', true, 'angleres', ...\n",
    "    642, 'contrast', contrast, 'glyphspc', [1;1;1], 'glyphsc', 1.5,'glyphscvar', 'none', 'origin', ...\n",
    "    [0;0;0],'direction',eye(3),'space','LPS','mframe',eye(3)  ); % Cool ODF glyphs in the CC and CG\n",
    "plotdmri3d(sh,[mx+15,mx+30],[66,72],[sl,sl],'ha',ha1, 'bgimage', 'fa', 'bgsh', ...\n",
    "    sh, 'bgalpha', 0, 'mask', mask & (FA>FATH), 'bbox', false, 'glyphs', true, 'angleres', ...\n",
    "    642, 'contrast', contrast, 'glyphspc', [1;1;1], 'glyphsc', 1.5,'glyphscvar', 'none', 'origin', ...\n",
    "    [0;0;0],'direction',eye(3),'space','LPS','mframe',eye(3)  ); % Cool ODF glyphs in the CC and CG\n",
    "light('Position',[-1,0,-1]); % Even cooler look\n",
    "axis('equal');\n",
    "axis('off');\n",
    "view(ha1,0,270);\n",
    "%zoom(1.01);\n",
    "ha3 = axes('Parent',hf);\n",
    "set(ha3,'OuterPosition',[-0.6,-0.525,2.2,2.2]);\n",
    "sl = 3; mx = 53; % Select the piece of data to plot with our cool plotdmri3d\n",
    "plotdmri3d(sh,[mx+2,mx+30],[45,65],[sl,sl],'bgimage', 'fa', 'bgsh', sh, 'ha', ...\n",
    "    ha3,'bgalpha', 0, 'mask', mask, 'bbox', false, 'glyphs', false, 'origin', ...\n",
    "    [0;0;0],'direction',eye(3),'space','LPS','mframe',eye(3)  ); % FA image for the other half of the slice\n",
    "plotdmri3d(sh,[mx+2,mx+30],[45,65],[sl,sl],'ha',ha3, 'bgimage', 'fa', 'bgsh', ...\n",
    "    sh, 'bgalpha', 0, 'mask', mask & (FA>FATH), 'bbox', false, 'glyphs', true, 'angleres', ...\n",
    "    642, 'contrast', contrast, 'glyphspc', [1;1;1], 'glyphsc', 1,'glyphscvar', 'ga', 'origin', ...\n",
    "    [0;0;0],'direction',eye(3),'space','LPS','mframe',eye(3)  ); % Cool ODF glyphs in the CC and CG\n",
    "plotdmri3d(sh,[mx+15,mx+30],[65,72],[sl,sl],'bgimage', 'fa', 'bgsh', sh, 'ha', ...\n",
    "    ha3,'bgalpha', 0, 'mask', mask, 'bbox', false, 'glyphs', false, 'origin', ...\n",
    "    [0;0;0],'direction',eye(3),'space','LPS','mframe',eye(3)  ); % FA image for the other half of the slice\n",
    "plotdmri3d(sh,[mx+15,mx+30],[66,72],[sl,sl],'ha',ha3, 'bgimage', 'fa', 'bgsh', ...\n",
    "    sh, 'bgalpha', 0, 'mask', mask & (FA>FATH), 'bbox', false, 'glyphs', true, 'angleres', ...\n",
    "    642, 'contrast', contrast, 'glyphspc', [1;1;1], 'glyphsc', 1,'glyphscvar', 'ga', 'origin', ...\n",
    "    [0;0;0],'direction',eye(3),'space','LPS','mframe',eye(3)  ); % Cool ODF glyphs in the CC and CG\n",
    "light('Position',[1,0,1]); % Even cooler look\n",
    "axis('equal');\n",
    "axis('off');\n",
    "view(ha3,30,45);\n",
    "%---------------------------------------------------------------------------------------------------\n",
    "set(hf,'renderer','Painters');"
   ]
  },
  {
   "cell_type": "markdown",
   "metadata": {},
   "source": [
    "## Compute the EAP at a Cartesian lattice (with the original Wu's method)"
   ]
  },
  {
   "cell_type": "code",
   "execution_count": null,
   "metadata": {},
   "outputs": [],
   "source": [
    "% To replicate the original Wu's method, one should fix 'fixedq' true,\n",
    "% 'const' false, and lattice [4;4;4]:\n",
    "tic;\n",
    "[eap2,~,lattice2,Qx2,Qy2,Qz2] = atti2wuhydidsi( atti, gi, bi,'mask', mask, ... % Output dti is ignored in this case\n",
    "    'tl', 1.0e-7, 'tu', 1-1.0e-7, ... % To avoid outliers\n",
    "    'fixedq', false, ... % Set a fixed bandwidth for all voxels depending just on the maximum b-value acquired\n",
    "    'tau', 36.5e-3, 'Rth', Rth, ... % The tails are only igored beyond the point where the signal falls to 1% of its value at the origin IMPORTANT PARAMETER!\n",
    "    'lattice', [], ... % Let the function decide\n",
    "    'const', false, ... % Re-normalize to get positive, unit mass EAP\n",
    "    'verbose', true ); % Plot a fancy progress bar\n",
    "fprintf(1,'It took %1.3f seconds to estimate the EAP\\n',toc); % This will be a good while!"
   ]
  },
  {
   "cell_type": "markdown",
   "metadata": {},
   "source": [
    "## Compute the standard measures (with the original Wu's method)"
   ]
  },
  {
   "cell_type": "code",
   "execution_count": null,
   "metadata": {},
   "outputs": [],
   "source": [
    "rtop2 = wuhydidsi2index(eap2, lattice2, Qx2, Qy2, Qz2, 'mask', mask, 'kind', 'rtop');\n",
    "rtpp2 = wuhydidsi2index(eap2, lattice2, Qx2, Qy2, Qz2, 'mask', mask, 'kind', 'rtpp');\n",
    "rtap2 = wuhydidsi2index(eap2, lattice2, Qx2, Qy2, Qz2, 'mask', mask, 'kind', 'rtap');\n",
    "msd2  = wuhydidsi2index(eap2, lattice2, Qx2, Qy2, Qz2, 'mask', mask, 'kind', 'msd');\n",
    "mass2 = wuhydidsi2index(eap2, lattice2, Qx2, Qy2, Qz2, 'mask', mask, 'kind', 'mass');"
   ]
  },
  {
   "cell_type": "markdown",
   "metadata": {},
   "source": [
    "## Plot the results (with the original Wu's method)"
   ]
  },
  {
   "cell_type": "code",
   "execution_count": null,
   "metadata": {},
   "outputs": [],
   "source": [
    "close(figure(4)); % Close previous figures if needed\n",
    "hf = figure(4);\n",
    "set(hf,'Name','HYDI indices from multi-shells','Position',[10,10,1200,680]);\n",
    "R=1; C=5;\n",
    "r=1; c=1; subplot('Position',[(c-1)/C,(r-1)/R,1/C,1/R]);\n",
    "imshow([rtop2(:,:,slc(1))';rtop2(:,:,slc(2))';rtop2(:,:, ...\n",
    "    slc(3))'],[0,1.0e6]); colormap(MAP); colorbar; title('RTOP');\n",
    "axis('equal');axis('off');axis('tight');\n",
    "r=1; c=2; subplot('Position',[(c-1)/C,(r-1)/R,1/C,1/R]);\n",
    "imshow([rtpp2(:,:,slc(1))';rtpp2(:,:,slc(2))';rtpp2(:,:, ...\n",
    "    slc(3))'],[20,80]); colormap(MAP); colorbar; title('RTPP');\n",
    "axis('equal');axis('off');axis('tight');\n",
    "r=1; c=3; subplot('Position',[(c-1)/C,(r-1)/R,1/C,1/R]);\n",
    "imshow([rtap2(:,:,slc(1))';rtap2(:,:,slc(2))';rtap2(:,:, ...\n",
    "    slc(3))'],[0,2e4]); colormap(MAP); colorbar; title('RTAP');\n",
    "axis('equal');axis('off');axis('tight');\n",
    "r=1; c=4; subplot('Position',[(c-1)/C,(r-1)/R,1/C,1/R]);\n",
    "imshow([msd2(:,:,slc(1))';msd2(:,:,slc(2))';msd2(:,:, ...\n",
    "    slc(3))'],[1.0e-4,5.0e-4]); colormap(MAP); colorbar; title('MSD');\n",
    "axis('equal');axis('off');axis('tight');\n",
    "r=1; c=5; subplot('Position',[(c-1)/C,(r-1)/R,1/C,1/R]);\n",
    "imshow([mass2(:,:,slc(1))';mass2(:,:,slc(2))';mass2(:,:, ...\n",
    "    slc(3))'],[0,2]); colormap(MAP); colorbar; title('MASS');\n",
    "axis('equal');axis('off');axis('tight');"
   ]
  }
 ],
 "metadata": {
  "kernelspec": {
   "display_name": "Octave",
   "language": "octave",
   "name": "octave"
  },
  "language_info": {
   "file_extension": ".m",
   "help_links": [
    {
     "text": "GNU Octave",
     "url": "https://www.gnu.org/software/octave/support.html"
    },
    {
     "text": "Octave Kernel",
     "url": "https://github.com/Calysto/octave_kernel"
    },
    {
     "text": "MetaKernel Magics",
     "url": "https://metakernel.readthedocs.io/en/latest/source/README.html"
    }
   ],
   "mimetype": "text/x-octave",
   "name": "octave",
   "version": "10.2.0"
  }
 },
 "nbformat": 4,
 "nbformat_minor": 4
}
